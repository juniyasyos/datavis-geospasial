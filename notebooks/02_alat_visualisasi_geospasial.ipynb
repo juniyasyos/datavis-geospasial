{
 "cells": [
  {
   "cell_type": "markdown",
   "id": "dae8a114",
   "metadata": {},
   "source": [
    "# 🌐 Notebook 02 - Alat untuk Visualisasi Geospasial\n",
    "\n",
    "**Selamat datang di Notebook 02!** Setelah belajar peta statis di Notebook 01, sekarang kita akan membuat **peta interaktif** yang bisa di-zoom, di-klik, dan lebih dinamis!\n",
    "\n",
    "---\n",
    "\n",
    "## 🎯 Tujuan Pembelajaran\n",
    "\n",
    "Setelah menyelesaikan notebook ini, Anda akan dapat:\n",
    "1. Membuat **peta interaktif** menggunakan Folium\n",
    "2. Menambahkan **marker & popup** dengan informasi detail\n",
    "3. Membuat **scatter map** dengan Plotly\n",
    "4. Memahami **perbedaan** antara berbagai alat visualisasi\n",
    "5. Memilih **alat yang tepat** untuk kebutuhan Anda\n",
    "\n",
    "⏱️ **Estimasi waktu:** 45-60 menit\n",
    "\n",
    "---\n",
    "\n",
    "## 📚 Apa itu Peta Interaktif?\n",
    "\n",
    "**Perbedaan peta statis vs interaktif:**\n",
    "\n",
    "| Fitur | Peta Statis (GeoPandas) | Peta Interaktif (Folium/Plotly) |\n",
    "|-------|------------------------|----------------------------------|\n",
    "| **Zoom** | ❌ Tidak bisa | ✅ Bisa zoom in/out |\n",
    "| **Pan** | ❌ Tidak bisa geser | ✅ Bisa drag & geser |\n",
    "| **Klik** | ❌ Tidak ada interaksi | ✅ Popup/tooltip saat klik/hover |\n",
    "| **Format** | PNG/JPG | HTML (bisa dibuka di browser) |\n",
    "| **Use case** | Laporan, paper, presentasi | Web, dashboard, eksplorasi data |\n",
    "\n",
    "> **💡 TIP:** Gunakan peta statis untuk dokumen cetak, gunakan peta interaktif untuk web!\n",
    "\n",
    "---"
   ]
  },
  {
   "cell_type": "markdown",
   "id": "0870a8c5",
   "metadata": {},
   "source": [
    "## 🛠️ Persiapan: Load Data Fasilitas Publik\n",
    "\n",
    "Kita akan menggunakan data **fasilitas publik di Kabupaten Jember** seperti sekolah, rumah sakit, pasar, tempat wisata, dll. Data ini lebih masuk akal untuk visualisasi geospasial karena:\n",
    "- ✅ Lokasi real di Kabupaten Jember\n",
    "- ✅ Kategori yang beragam dan relevan\n",
    "- ✅ Memiliki atribut seperti kapasitas, rating, deskripsi"
   ]
  },
  {
   "cell_type": "code",
   "execution_count": 1,
   "id": "f024e126",
   "metadata": {},
   "outputs": [
    {
     "name": "stdout",
     "output_type": "stream",
     "text": [
      "✅ Data fasilitas berhasil dimuat: 20 baris\n",
      "\n",
      "📊 Kolom yang tersedia:\n",
      "['id', 'nama', 'kategori', 'kecamatan', 'lat', 'lon', 'kapasitas', 'rating', 'deskripsi']\n",
      "\n",
      "📋 Kategori fasilitas:\n",
      "kategori\n",
      "pendidikan      5\n",
      "wisata          5\n",
      "ekonomi         4\n",
      "kesehatan       3\n",
      "ruang_publik    2\n",
      "transportasi    1\n",
      "Name: count, dtype: int64\n",
      "\n",
      "📋 Preview data:\n"
     ]
    },
    {
     "data": {
      "text/html": [
       "<div>\n",
       "<style scoped>\n",
       "    .dataframe tbody tr th:only-of-type {\n",
       "        vertical-align: middle;\n",
       "    }\n",
       "\n",
       "    .dataframe tbody tr th {\n",
       "        vertical-align: top;\n",
       "    }\n",
       "\n",
       "    .dataframe thead th {\n",
       "        text-align: right;\n",
       "    }\n",
       "</style>\n",
       "<table border=\"1\" class=\"dataframe\">\n",
       "  <thead>\n",
       "    <tr style=\"text-align: right;\">\n",
       "      <th></th>\n",
       "      <th>id</th>\n",
       "      <th>nama</th>\n",
       "      <th>kategori</th>\n",
       "      <th>kecamatan</th>\n",
       "      <th>lat</th>\n",
       "      <th>lon</th>\n",
       "      <th>kapasitas</th>\n",
       "      <th>rating</th>\n",
       "      <th>deskripsi</th>\n",
       "    </tr>\n",
       "  </thead>\n",
       "  <tbody>\n",
       "    <tr>\n",
       "      <th>0</th>\n",
       "      <td>1</td>\n",
       "      <td>SMAN 1 Jember</td>\n",
       "      <td>pendidikan</td>\n",
       "      <td>Kaliwates</td>\n",
       "      <td>-8.1650</td>\n",
       "      <td>113.6995</td>\n",
       "      <td>1200</td>\n",
       "      <td>4.5</td>\n",
       "      <td>Sekolah menengah favorit di pusat kota</td>\n",
       "    </tr>\n",
       "    <tr>\n",
       "      <th>1</th>\n",
       "      <td>2</td>\n",
       "      <td>RSUD dr. Soebandi</td>\n",
       "      <td>kesehatan</td>\n",
       "      <td>Patrang</td>\n",
       "      <td>-8.1734</td>\n",
       "      <td>113.6801</td>\n",
       "      <td>450</td>\n",
       "      <td>4.2</td>\n",
       "      <td>Rumah sakit rujukan utama Jember</td>\n",
       "    </tr>\n",
       "    <tr>\n",
       "      <th>2</th>\n",
       "      <td>3</td>\n",
       "      <td>Universitas Jember</td>\n",
       "      <td>pendidikan</td>\n",
       "      <td>Sumbersari</td>\n",
       "      <td>-8.1652</td>\n",
       "      <td>113.7220</td>\n",
       "      <td>35000</td>\n",
       "      <td>4.6</td>\n",
       "      <td>Kampus universitas negeri terbesar</td>\n",
       "    </tr>\n",
       "    <tr>\n",
       "      <th>3</th>\n",
       "      <td>4</td>\n",
       "      <td>Pasar Tanjung</td>\n",
       "      <td>ekonomi</td>\n",
       "      <td>Kaliwates</td>\n",
       "      <td>-8.1689</td>\n",
       "      <td>113.6945</td>\n",
       "      <td>500</td>\n",
       "      <td>4.0</td>\n",
       "      <td>Pasar tradisional pusat kota</td>\n",
       "    </tr>\n",
       "    <tr>\n",
       "      <th>4</th>\n",
       "      <td>5</td>\n",
       "      <td>Papuma Beach</td>\n",
       "      <td>wisata</td>\n",
       "      <td>Wuluhan</td>\n",
       "      <td>-8.2789</td>\n",
       "      <td>113.8689</td>\n",
       "      <td>1000</td>\n",
       "      <td>4.7</td>\n",
       "      <td>Pantai pasir putih dengan tebing karang</td>\n",
       "    </tr>\n",
       "    <tr>\n",
       "      <th>5</th>\n",
       "      <td>6</td>\n",
       "      <td>Air Terjun Tancak</td>\n",
       "      <td>wisata</td>\n",
       "      <td>Panti</td>\n",
       "      <td>-8.2145</td>\n",
       "      <td>113.3789</td>\n",
       "      <td>300</td>\n",
       "      <td>4.4</td>\n",
       "      <td>Air terjun dengan kolam alami</td>\n",
       "    </tr>\n",
       "    <tr>\n",
       "      <th>6</th>\n",
       "      <td>7</td>\n",
       "      <td>SMP Negeri 1 Jember</td>\n",
       "      <td>pendidikan</td>\n",
       "      <td>Kaliwates</td>\n",
       "      <td>-8.1705</td>\n",
       "      <td>113.7034</td>\n",
       "      <td>900</td>\n",
       "      <td>4.3</td>\n",
       "      <td>Sekolah menengah pertama favorit</td>\n",
       "    </tr>\n",
       "    <tr>\n",
       "      <th>7</th>\n",
       "      <td>8</td>\n",
       "      <td>Puskesmas Balung</td>\n",
       "      <td>kesehatan</td>\n",
       "      <td>Balung</td>\n",
       "      <td>-8.2911</td>\n",
       "      <td>113.9081</td>\n",
       "      <td>150</td>\n",
       "      <td>3.9</td>\n",
       "      <td>Pusat kesehatan masyarakat</td>\n",
       "    </tr>\n",
       "    <tr>\n",
       "      <th>8</th>\n",
       "      <td>9</td>\n",
       "      <td>Alun-alun Jember</td>\n",
       "      <td>ruang_publik</td>\n",
       "      <td>Kaliwates</td>\n",
       "      <td>-8.1672</td>\n",
       "      <td>113.6978</td>\n",
       "      <td>2000</td>\n",
       "      <td>4.1</td>\n",
       "      <td>Ruang terbuka publik pusat kota</td>\n",
       "    </tr>\n",
       "    <tr>\n",
       "      <th>9</th>\n",
       "      <td>10</td>\n",
       "      <td>Kampung Inggris</td>\n",
       "      <td>pendidikan</td>\n",
       "      <td>Rambipuji</td>\n",
       "      <td>-8.1445</td>\n",
       "      <td>113.6208</td>\n",
       "      <td>500</td>\n",
       "      <td>4.5</td>\n",
       "      <td>Lembaga kursus bahasa Inggris</td>\n",
       "    </tr>\n",
       "  </tbody>\n",
       "</table>\n",
       "</div>"
      ],
      "text/plain": [
       "   id                 nama      kategori   kecamatan     lat       lon  \\\n",
       "0   1        SMAN 1 Jember    pendidikan   Kaliwates -8.1650  113.6995   \n",
       "1   2    RSUD dr. Soebandi     kesehatan     Patrang -8.1734  113.6801   \n",
       "2   3   Universitas Jember    pendidikan  Sumbersari -8.1652  113.7220   \n",
       "3   4        Pasar Tanjung       ekonomi   Kaliwates -8.1689  113.6945   \n",
       "4   5         Papuma Beach        wisata     Wuluhan -8.2789  113.8689   \n",
       "5   6    Air Terjun Tancak        wisata       Panti -8.2145  113.3789   \n",
       "6   7  SMP Negeri 1 Jember    pendidikan   Kaliwates -8.1705  113.7034   \n",
       "7   8     Puskesmas Balung     kesehatan      Balung -8.2911  113.9081   \n",
       "8   9     Alun-alun Jember  ruang_publik   Kaliwates -8.1672  113.6978   \n",
       "9  10      Kampung Inggris    pendidikan   Rambipuji -8.1445  113.6208   \n",
       "\n",
       "   kapasitas  rating                                deskripsi  \n",
       "0       1200     4.5   Sekolah menengah favorit di pusat kota  \n",
       "1        450     4.2         Rumah sakit rujukan utama Jember  \n",
       "2      35000     4.6       Kampus universitas negeri terbesar  \n",
       "3        500     4.0             Pasar tradisional pusat kota  \n",
       "4       1000     4.7  Pantai pasir putih dengan tebing karang  \n",
       "5        300     4.4            Air terjun dengan kolam alami  \n",
       "6        900     4.3         Sekolah menengah pertama favorit  \n",
       "7        150     3.9               Pusat kesehatan masyarakat  \n",
       "8       2000     4.1          Ruang terbuka publik pusat kota  \n",
       "9        500     4.5            Lembaga kursus bahasa Inggris  "
      ]
     },
     "execution_count": 1,
     "metadata": {},
     "output_type": "execute_result"
    }
   ],
   "source": [
    "# Import library\n",
    "import pandas as pd\n",
    "from pathlib import Path\n",
    "import os\n",
    "\n",
    "# Setup path (kompatibel dengan berbagai working directory)\n",
    "if 'notebooks' in os.getcwd():\n",
    "    ROOT = Path('..')\n",
    "else:\n",
    "    ROOT = Path('.')\n",
    "\n",
    "CSV_FASILITAS = ROOT / 'data' / 'raw' / 'fasilitas_jember.csv'\n",
    "\n",
    "# Load data\n",
    "df = pd.read_csv(CSV_FASILITAS)\n",
    "\n",
    "print(f'✅ Data fasilitas berhasil dimuat: {len(df)} baris')\n",
    "print(f'\\n📊 Kolom yang tersedia:')\n",
    "print(df.columns.tolist())\n",
    "print('\\n📋 Kategori fasilitas:')\n",
    "print(df['kategori'].value_counts())\n",
    "print('\\n📋 Preview data:')\n",
    "df.head(10)"
   ]
  },
  {
   "cell_type": "markdown",
   "id": "fdadcef4",
   "metadata": {},
   "source": [
    "---\n",
    "\n",
    "## 🗺️ BAGIAN 1: Folium - Peta Interaktif Mudah\n",
    "\n",
    "### Apa itu Folium?\n",
    "\n",
    "**Folium** adalah library Python yang menghasilkan peta interaktif berbasis **Leaflet.js** (library JavaScript populer).\n",
    "\n",
    "**Kelebihan:**\n",
    "- ✅ Mudah digunakan (hanya beberapa baris kode)\n",
    "- ✅ Gratis, tidak perlu API key untuk tiles standar\n",
    "- ✅ Output HTML bisa langsung dibuka di browser\n",
    "- ✅ Banyak plugin (heatmap, cluster, choropleth)\n",
    "\n",
    "**Kekurangan:**\n",
    "- ⚠️ Lambat jika marker terlalu banyak (>1000)\n",
    "- ⚠️ Styling tidak sefleksibel Plotly\n",
    "\n",
    "---\n",
    "\n",
    "### Langkah 1: Buat Peta Dasar\n",
    "\n",
    "Kita akan membuat peta berpusat pada Kabupaten Jember (rata-rata koordinat fasilitas):"
   ]
  },
  {
   "cell_type": "code",
   "execution_count": 2,
   "id": "2e598365",
   "metadata": {},
   "outputs": [
    {
     "name": "stdout",
     "output_type": "stream",
     "text": [
      "📍 Pusat peta: (-8.1903, 113.6571)\n",
      "✅ Peta dasar berhasil dibuat!\n",
      "📍 Zoom level: 10 (cocok untuk tingkat kabupaten)\n",
      "Tunggu sebentar, kita akan tambahkan marker...\n"
     ]
    }
   ],
   "source": [
    "import folium\n",
    "\n",
    "# Hitung pusat peta (rata-rata lat & lon)\n",
    "center_lat = df['lat'].mean()\n",
    "center_lon = df['lon'].mean()\n",
    "print(f'📍 Pusat peta: ({center_lat:.4f}, {center_lon:.4f})')\n",
    "\n",
    "# Buat peta dasar\n",
    "m = folium.Map(\n",
    "    location=[center_lat, center_lon],  # koordinat pusat\n",
    "    zoom_start=10,                      # level zoom (1=dunia, 18=detail jalan)\n",
    "    tiles='CartoDB positron'            # style map (alternatif: 'OpenStreetMap', 'Stamen Terrain')\n",
    ")\n",
    "\n",
    "print('✅ Peta dasar berhasil dibuat!')\n",
    "print(f'📍 Zoom level: 10 (cocok untuk tingkat kabupaten)')\n",
    "print('Tunggu sebentar, kita akan tambahkan marker...')"
   ]
  },
  {
   "cell_type": "markdown",
   "id": "3162a6f0",
   "metadata": {},
   "source": [
    "> **💡 PENJELASAN:**\n",
    "> - `location=[lat, lon]` → koordinat pusat peta\n",
    "> - `zoom_start` → angka 1-18 (makin besar makin detail)\n",
    "> - `tiles` → gaya basemap (coba: 'OpenStreetMap', 'Stamen Toner')\n",
    "\n",
    "---\n",
    "\n",
    "### Langkah 2: Tambahkan Marker dengan Popup\n",
    "\n",
    "Kita akan menambahkan **CircleMarker** untuk setiap fasilitas, dengan warna berdasarkan kategori:"
   ]
  },
  {
   "cell_type": "code",
   "execution_count": 3,
   "id": "530cdb0e",
   "metadata": {},
   "outputs": [
    {
     "name": "stdout",
     "output_type": "stream",
     "text": [
      "✅ 20 marker fasilitas berhasil ditambahkan!\n",
      "🔍 Klik marker untuk lihat detail fasilitas\n",
      "🎨 Warna: Pendidikan (biru), Kesehatan (merah), Wisata (hijau), Ekonomi (orange), dll\n"
     ]
    }
   ],
   "source": [
    "# Buat ulang peta (agar bersih)\n",
    "m = folium.Map(location=[center_lat, center_lon], zoom_start=10, tiles='CartoDB positron')\n",
    "\n",
    "# Definisikan warna untuk setiap kategori fasilitas\n",
    "palette = {\n",
    "    'pendidikan': '#3498db',      # biru\n",
    "    'kesehatan': '#e74c3c',       # merah\n",
    "    'wisata': '#2ecc71',          # hijau\n",
    "    'ekonomi': '#f39c12',         # orange\n",
    "    'ruang_publik': '#9b59b6',    # ungu\n",
    "    'transportasi': '#34495e'     # abu gelap\n",
    "}\n",
    "\n",
    "# Icon untuk setiap kategori\n",
    "icons = {\n",
    "    'pendidikan': '🎓',\n",
    "    'kesehatan': '🏥',\n",
    "    'wisata': '🏖️',\n",
    "    'ekonomi': '🏪',\n",
    "    'ruang_publik': '🏛️',\n",
    "    'transportasi': '🚌'\n",
    "}\n",
    "\n",
    "# Loop setiap fasilitas dan tambahkan marker\n",
    "for idx, row in df.iterrows():\n",
    "    # Ambil warna dan icon berdasarkan kategori\n",
    "    color = palette.get(row['kategori'], '#95a5a6')  # default abu-abu\n",
    "    icon = icons.get(row['kategori'], '📍')\n",
    "    \n",
    "    # Tentukan ukuran marker berdasarkan rating\n",
    "    radius = 6 + (row['rating'] * 2)  # rating tinggi = marker lebih besar\n",
    "    \n",
    "    # Buat konten popup (HTML)\n",
    "    popup_html = f\"\"\"\n",
    "    <div style='font-family: Arial; min-width: 200px;'>\n",
    "        <h4 style='margin-bottom: 5px; color: {color};'>{icon} {row['nama']}</h4>\n",
    "        <hr style='margin: 5px 0;'>\n",
    "        <b>📂 Kategori:</b> {row['kategori'].title()}<br>\n",
    "        <b>📍 Kecamatan:</b> {row['kecamatan']}<br>\n",
    "        <b>⭐ Rating:</b> {row['rating']}/5.0<br>\n",
    "        <b>👥 Kapasitas:</b> {row['kapasitas']:,} orang<br>\n",
    "        <br>\n",
    "        <i style='color: #7f8c8d; font-size: 11px;'>{row['deskripsi']}</i>\n",
    "    </div>\n",
    "    \"\"\"\n",
    "    \n",
    "    # Tambahkan CircleMarker\n",
    "    folium.CircleMarker(\n",
    "        location=[row['lat'], row['lon']],\n",
    "        radius=radius,               # ukuran berdasarkan rating\n",
    "        color=color,                 # warna border\n",
    "        fill=True,\n",
    "        fill_color=color,            # warna isi\n",
    "        fill_opacity=0.7,\n",
    "        weight=2,\n",
    "        popup=folium.Popup(popup_html, max_width=350)\n",
    "    ).add_to(m)\n",
    "\n",
    "print(f'✅ {len(df)} marker fasilitas berhasil ditambahkan!')\n",
    "print('🔍 Klik marker untuk lihat detail fasilitas')\n",
    "print(f'🎨 Warna: Pendidikan (biru), Kesehatan (merah), Wisata (hijau), Ekonomi (orange), dll')"
   ]
  },
  {
   "cell_type": "markdown",
   "id": "e8fa9183",
   "metadata": {},
   "source": [
    "> **💡 TIPS FOLIUM:**\n",
    "> - `CircleMarker` vs `Marker`: CircleMarker lebih ringan dan konsisten di semua zoom level\n",
    "> - Popup bisa pakai **HTML**, jadi Anda bisa tambah gambar, link, styling!\n",
    "> - `fill_opacity` → transparansi (0.5 = semi-transparan)\n",
    "\n",
    "---\n",
    "\n",
    "### Langkah 3: Simpan & Tampilkan Peta"
   ]
  },
  {
   "cell_type": "code",
   "execution_count": 4,
   "id": "12702b42",
   "metadata": {},
   "outputs": [
    {
     "name": "stdout",
     "output_type": "stream",
     "text": [
      "💾 Peta disimpan ke: ../exports/map_fasilitas_folium.html\n",
      "🌐 Buka file HTML di browser untuk melihat peta interaktif!\n"
     ]
    },
    {
     "data": {
      "text/html": [
       "<div style=\"width:100%;\"><div style=\"position:relative;width:100%;height:0;padding-bottom:60%;\"><span style=\"color:#565656\">Make this Notebook Trusted to load map: File -> Trust Notebook</span><iframe srcdoc=\"&lt;!DOCTYPE html&gt;\n",
       "&lt;html&gt;\n",
       "&lt;head&gt;\n",
       "    \n",
       "    &lt;meta http-equiv=&quot;content-type&quot; content=&quot;text/html; charset=UTF-8&quot; /&gt;\n",
       "    &lt;script src=&quot;https://cdn.jsdelivr.net/npm/leaflet@1.9.3/dist/leaflet.js&quot;&gt;&lt;/script&gt;\n",
       "    &lt;script src=&quot;https://code.jquery.com/jquery-3.7.1.min.js&quot;&gt;&lt;/script&gt;\n",
       "    &lt;script src=&quot;https://cdn.jsdelivr.net/npm/bootstrap@5.2.2/dist/js/bootstrap.bundle.min.js&quot;&gt;&lt;/script&gt;\n",
       "    &lt;script src=&quot;https://cdnjs.cloudflare.com/ajax/libs/Leaflet.awesome-markers/2.0.2/leaflet.awesome-markers.js&quot;&gt;&lt;/script&gt;\n",
       "    &lt;link rel=&quot;stylesheet&quot; href=&quot;https://cdn.jsdelivr.net/npm/leaflet@1.9.3/dist/leaflet.css&quot;/&gt;\n",
       "    &lt;link rel=&quot;stylesheet&quot; href=&quot;https://cdn.jsdelivr.net/npm/bootstrap@5.2.2/dist/css/bootstrap.min.css&quot;/&gt;\n",
       "    &lt;link rel=&quot;stylesheet&quot; href=&quot;https://netdna.bootstrapcdn.com/bootstrap/3.0.0/css/bootstrap-glyphicons.css&quot;/&gt;\n",
       "    &lt;link rel=&quot;stylesheet&quot; href=&quot;https://cdn.jsdelivr.net/npm/@fortawesome/fontawesome-free@6.2.0/css/all.min.css&quot;/&gt;\n",
       "    &lt;link rel=&quot;stylesheet&quot; href=&quot;https://cdnjs.cloudflare.com/ajax/libs/Leaflet.awesome-markers/2.0.2/leaflet.awesome-markers.css&quot;/&gt;\n",
       "    &lt;link rel=&quot;stylesheet&quot; href=&quot;https://cdn.jsdelivr.net/gh/python-visualization/folium/folium/templates/leaflet.awesome.rotate.min.css&quot;/&gt;\n",
       "    \n",
       "            &lt;meta name=&quot;viewport&quot; content=&quot;width=device-width,\n",
       "                initial-scale=1.0, maximum-scale=1.0, user-scalable=no&quot; /&gt;\n",
       "            &lt;style&gt;\n",
       "                #map_7208273f1f19648c6e811f942a627197 {\n",
       "                    position: relative;\n",
       "                    width: 100.0%;\n",
       "                    height: 100.0%;\n",
       "                    left: 0.0%;\n",
       "                    top: 0.0%;\n",
       "                }\n",
       "                .leaflet-container { font-size: 1rem; }\n",
       "            &lt;/style&gt;\n",
       "\n",
       "            &lt;style&gt;html, body {\n",
       "                width: 100%;\n",
       "                height: 100%;\n",
       "                margin: 0;\n",
       "                padding: 0;\n",
       "            }\n",
       "            &lt;/style&gt;\n",
       "\n",
       "            &lt;style&gt;#map {\n",
       "                position:absolute;\n",
       "                top:0;\n",
       "                bottom:0;\n",
       "                right:0;\n",
       "                left:0;\n",
       "                }\n",
       "            &lt;/style&gt;\n",
       "\n",
       "            &lt;script&gt;\n",
       "                L_NO_TOUCH = false;\n",
       "                L_DISABLE_3D = false;\n",
       "            &lt;/script&gt;\n",
       "\n",
       "        \n",
       "&lt;/head&gt;\n",
       "&lt;body&gt;\n",
       "    \n",
       "    \n",
       "            &lt;div class=&quot;folium-map&quot; id=&quot;map_7208273f1f19648c6e811f942a627197&quot; &gt;&lt;/div&gt;\n",
       "        \n",
       "&lt;/body&gt;\n",
       "&lt;script&gt;\n",
       "    \n",
       "    \n",
       "            var map_7208273f1f19648c6e811f942a627197 = L.map(\n",
       "                &quot;map_7208273f1f19648c6e811f942a627197&quot;,\n",
       "                {\n",
       "                    center: [-8.19028, 113.65706],\n",
       "                    crs: L.CRS.EPSG3857,\n",
       "                    ...{\n",
       "  &quot;zoom&quot;: 10,\n",
       "  &quot;zoomControl&quot;: true,\n",
       "  &quot;preferCanvas&quot;: false,\n",
       "}\n",
       "\n",
       "                }\n",
       "            );\n",
       "\n",
       "            \n",
       "\n",
       "        \n",
       "    \n",
       "            var tile_layer_3169520fecc5d08f16c1ce4731c260ec = L.tileLayer(\n",
       "                &quot;https://{s}.basemaps.cartocdn.com/light_all/{z}/{x}/{y}{r}.png&quot;,\n",
       "                {\n",
       "  &quot;minZoom&quot;: 0,\n",
       "  &quot;maxZoom&quot;: 20,\n",
       "  &quot;maxNativeZoom&quot;: 20,\n",
       "  &quot;noWrap&quot;: false,\n",
       "  &quot;attribution&quot;: &quot;\\u0026copy; \\u003ca href=\\&quot;https://www.openstreetmap.org/copyright\\&quot;\\u003eOpenStreetMap\\u003c/a\\u003e contributors \\u0026copy; \\u003ca href=\\&quot;https://carto.com/attributions\\&quot;\\u003eCARTO\\u003c/a\\u003e&quot;,\n",
       "  &quot;subdomains&quot;: &quot;abcd&quot;,\n",
       "  &quot;detectRetina&quot;: false,\n",
       "  &quot;tms&quot;: false,\n",
       "  &quot;opacity&quot;: 1,\n",
       "}\n",
       "\n",
       "            );\n",
       "        \n",
       "    \n",
       "            tile_layer_3169520fecc5d08f16c1ce4731c260ec.addTo(map_7208273f1f19648c6e811f942a627197);\n",
       "        \n",
       "    \n",
       "            var circle_marker_aad298e6617b3cf985f50797c7b6080f = L.circleMarker(\n",
       "                [-8.165, 113.6995],\n",
       "                {&quot;bubblingMouseEvents&quot;: true, &quot;color&quot;: &quot;#3498db&quot;, &quot;dashArray&quot;: null, &quot;dashOffset&quot;: null, &quot;fill&quot;: true, &quot;fillColor&quot;: &quot;#3498db&quot;, &quot;fillOpacity&quot;: 0.7, &quot;fillRule&quot;: &quot;evenodd&quot;, &quot;lineCap&quot;: &quot;round&quot;, &quot;lineJoin&quot;: &quot;round&quot;, &quot;opacity&quot;: 1.0, &quot;radius&quot;: 15.0, &quot;stroke&quot;: true, &quot;weight&quot;: 2}\n",
       "            ).addTo(map_7208273f1f19648c6e811f942a627197);\n",
       "        \n",
       "    \n",
       "        var popup_7da7d4f6aca1cfef58cceba7301ea33f = L.popup({\n",
       "  &quot;maxWidth&quot;: 350,\n",
       "});\n",
       "\n",
       "        \n",
       "            \n",
       "                var html_8677fa09a035bfc6425c0706244e4724 = $(`&lt;div id=&quot;html_8677fa09a035bfc6425c0706244e4724&quot; style=&quot;width: 100.0%; height: 100.0%;&quot;&gt;     &lt;div style=&#x27;font-family: Arial; min-width: 200px;&#x27;&gt;         &lt;h4 style=&#x27;margin-bottom: 5px; color: #3498db;&#x27;&gt;🎓 SMAN 1 Jember&lt;/h4&gt;         &lt;hr style=&#x27;margin: 5px 0;&#x27;&gt;         &lt;b&gt;📂 Kategori:&lt;/b&gt; Pendidikan&lt;br&gt;         &lt;b&gt;📍 Kecamatan:&lt;/b&gt; Kaliwates&lt;br&gt;         &lt;b&gt;⭐ Rating:&lt;/b&gt; 4.5/5.0&lt;br&gt;         &lt;b&gt;👥 Kapasitas:&lt;/b&gt; 1,200 orang&lt;br&gt;         &lt;br&gt;         &lt;i style=&#x27;color: #7f8c8d; font-size: 11px;&#x27;&gt;Sekolah menengah favorit di pusat kota&lt;/i&gt;     &lt;/div&gt;     &lt;/div&gt;`)[0];\n",
       "                popup_7da7d4f6aca1cfef58cceba7301ea33f.setContent(html_8677fa09a035bfc6425c0706244e4724);\n",
       "            \n",
       "        \n",
       "\n",
       "        circle_marker_aad298e6617b3cf985f50797c7b6080f.bindPopup(popup_7da7d4f6aca1cfef58cceba7301ea33f)\n",
       "        ;\n",
       "\n",
       "        \n",
       "    \n",
       "    \n",
       "            var circle_marker_37737e57c52e803f96b7cb8c8af91cff = L.circleMarker(\n",
       "                [-8.1734, 113.6801],\n",
       "                {&quot;bubblingMouseEvents&quot;: true, &quot;color&quot;: &quot;#e74c3c&quot;, &quot;dashArray&quot;: null, &quot;dashOffset&quot;: null, &quot;fill&quot;: true, &quot;fillColor&quot;: &quot;#e74c3c&quot;, &quot;fillOpacity&quot;: 0.7, &quot;fillRule&quot;: &quot;evenodd&quot;, &quot;lineCap&quot;: &quot;round&quot;, &quot;lineJoin&quot;: &quot;round&quot;, &quot;opacity&quot;: 1.0, &quot;radius&quot;: 14.4, &quot;stroke&quot;: true, &quot;weight&quot;: 2}\n",
       "            ).addTo(map_7208273f1f19648c6e811f942a627197);\n",
       "        \n",
       "    \n",
       "        var popup_2cd241ff12b642d77189374e7d58929d = L.popup({\n",
       "  &quot;maxWidth&quot;: 350,\n",
       "});\n",
       "\n",
       "        \n",
       "            \n",
       "                var html_16d2a2bc404d13199cedeb94582ef4b7 = $(`&lt;div id=&quot;html_16d2a2bc404d13199cedeb94582ef4b7&quot; style=&quot;width: 100.0%; height: 100.0%;&quot;&gt;     &lt;div style=&#x27;font-family: Arial; min-width: 200px;&#x27;&gt;         &lt;h4 style=&#x27;margin-bottom: 5px; color: #e74c3c;&#x27;&gt;🏥 RSUD dr. Soebandi&lt;/h4&gt;         &lt;hr style=&#x27;margin: 5px 0;&#x27;&gt;         &lt;b&gt;📂 Kategori:&lt;/b&gt; Kesehatan&lt;br&gt;         &lt;b&gt;📍 Kecamatan:&lt;/b&gt; Patrang&lt;br&gt;         &lt;b&gt;⭐ Rating:&lt;/b&gt; 4.2/5.0&lt;br&gt;         &lt;b&gt;👥 Kapasitas:&lt;/b&gt; 450 orang&lt;br&gt;         &lt;br&gt;         &lt;i style=&#x27;color: #7f8c8d; font-size: 11px;&#x27;&gt;Rumah sakit rujukan utama Jember&lt;/i&gt;     &lt;/div&gt;     &lt;/div&gt;`)[0];\n",
       "                popup_2cd241ff12b642d77189374e7d58929d.setContent(html_16d2a2bc404d13199cedeb94582ef4b7);\n",
       "            \n",
       "        \n",
       "\n",
       "        circle_marker_37737e57c52e803f96b7cb8c8af91cff.bindPopup(popup_2cd241ff12b642d77189374e7d58929d)\n",
       "        ;\n",
       "\n",
       "        \n",
       "    \n",
       "    \n",
       "            var circle_marker_d8c3c325fa7dfe32d7e55c592ca39449 = L.circleMarker(\n",
       "                [-8.1652, 113.722],\n",
       "                {&quot;bubblingMouseEvents&quot;: true, &quot;color&quot;: &quot;#3498db&quot;, &quot;dashArray&quot;: null, &quot;dashOffset&quot;: null, &quot;fill&quot;: true, &quot;fillColor&quot;: &quot;#3498db&quot;, &quot;fillOpacity&quot;: 0.7, &quot;fillRule&quot;: &quot;evenodd&quot;, &quot;lineCap&quot;: &quot;round&quot;, &quot;lineJoin&quot;: &quot;round&quot;, &quot;opacity&quot;: 1.0, &quot;radius&quot;: 15.2, &quot;stroke&quot;: true, &quot;weight&quot;: 2}\n",
       "            ).addTo(map_7208273f1f19648c6e811f942a627197);\n",
       "        \n",
       "    \n",
       "        var popup_60abccc2d8a60d120e30cabda8412fa5 = L.popup({\n",
       "  &quot;maxWidth&quot;: 350,\n",
       "});\n",
       "\n",
       "        \n",
       "            \n",
       "                var html_d17e318af700a4f253cbec8374b69bb8 = $(`&lt;div id=&quot;html_d17e318af700a4f253cbec8374b69bb8&quot; style=&quot;width: 100.0%; height: 100.0%;&quot;&gt;     &lt;div style=&#x27;font-family: Arial; min-width: 200px;&#x27;&gt;         &lt;h4 style=&#x27;margin-bottom: 5px; color: #3498db;&#x27;&gt;🎓 Universitas Jember&lt;/h4&gt;         &lt;hr style=&#x27;margin: 5px 0;&#x27;&gt;         &lt;b&gt;📂 Kategori:&lt;/b&gt; Pendidikan&lt;br&gt;         &lt;b&gt;📍 Kecamatan:&lt;/b&gt; Sumbersari&lt;br&gt;         &lt;b&gt;⭐ Rating:&lt;/b&gt; 4.6/5.0&lt;br&gt;         &lt;b&gt;👥 Kapasitas:&lt;/b&gt; 35,000 orang&lt;br&gt;         &lt;br&gt;         &lt;i style=&#x27;color: #7f8c8d; font-size: 11px;&#x27;&gt;Kampus universitas negeri terbesar&lt;/i&gt;     &lt;/div&gt;     &lt;/div&gt;`)[0];\n",
       "                popup_60abccc2d8a60d120e30cabda8412fa5.setContent(html_d17e318af700a4f253cbec8374b69bb8);\n",
       "            \n",
       "        \n",
       "\n",
       "        circle_marker_d8c3c325fa7dfe32d7e55c592ca39449.bindPopup(popup_60abccc2d8a60d120e30cabda8412fa5)\n",
       "        ;\n",
       "\n",
       "        \n",
       "    \n",
       "    \n",
       "            var circle_marker_b88f2224a71ff4e24766ec72fa7d8712 = L.circleMarker(\n",
       "                [-8.1689, 113.6945],\n",
       "                {&quot;bubblingMouseEvents&quot;: true, &quot;color&quot;: &quot;#f39c12&quot;, &quot;dashArray&quot;: null, &quot;dashOffset&quot;: null, &quot;fill&quot;: true, &quot;fillColor&quot;: &quot;#f39c12&quot;, &quot;fillOpacity&quot;: 0.7, &quot;fillRule&quot;: &quot;evenodd&quot;, &quot;lineCap&quot;: &quot;round&quot;, &quot;lineJoin&quot;: &quot;round&quot;, &quot;opacity&quot;: 1.0, &quot;radius&quot;: 14.0, &quot;stroke&quot;: true, &quot;weight&quot;: 2}\n",
       "            ).addTo(map_7208273f1f19648c6e811f942a627197);\n",
       "        \n",
       "    \n",
       "        var popup_19683ea5008a6640fba5088e994a4c9d = L.popup({\n",
       "  &quot;maxWidth&quot;: 350,\n",
       "});\n",
       "\n",
       "        \n",
       "            \n",
       "                var html_41f1ea29b95e4e11e93bc0b9e0a16536 = $(`&lt;div id=&quot;html_41f1ea29b95e4e11e93bc0b9e0a16536&quot; style=&quot;width: 100.0%; height: 100.0%;&quot;&gt;     &lt;div style=&#x27;font-family: Arial; min-width: 200px;&#x27;&gt;         &lt;h4 style=&#x27;margin-bottom: 5px; color: #f39c12;&#x27;&gt;🏪 Pasar Tanjung&lt;/h4&gt;         &lt;hr style=&#x27;margin: 5px 0;&#x27;&gt;         &lt;b&gt;📂 Kategori:&lt;/b&gt; Ekonomi&lt;br&gt;         &lt;b&gt;📍 Kecamatan:&lt;/b&gt; Kaliwates&lt;br&gt;         &lt;b&gt;⭐ Rating:&lt;/b&gt; 4.0/5.0&lt;br&gt;         &lt;b&gt;👥 Kapasitas:&lt;/b&gt; 500 orang&lt;br&gt;         &lt;br&gt;         &lt;i style=&#x27;color: #7f8c8d; font-size: 11px;&#x27;&gt;Pasar tradisional pusat kota&lt;/i&gt;     &lt;/div&gt;     &lt;/div&gt;`)[0];\n",
       "                popup_19683ea5008a6640fba5088e994a4c9d.setContent(html_41f1ea29b95e4e11e93bc0b9e0a16536);\n",
       "            \n",
       "        \n",
       "\n",
       "        circle_marker_b88f2224a71ff4e24766ec72fa7d8712.bindPopup(popup_19683ea5008a6640fba5088e994a4c9d)\n",
       "        ;\n",
       "\n",
       "        \n",
       "    \n",
       "    \n",
       "            var circle_marker_9281e17a36ebe4209bb6e61732a7624f = L.circleMarker(\n",
       "                [-8.2789, 113.8689],\n",
       "                {&quot;bubblingMouseEvents&quot;: true, &quot;color&quot;: &quot;#2ecc71&quot;, &quot;dashArray&quot;: null, &quot;dashOffset&quot;: null, &quot;fill&quot;: true, &quot;fillColor&quot;: &quot;#2ecc71&quot;, &quot;fillOpacity&quot;: 0.7, &quot;fillRule&quot;: &quot;evenodd&quot;, &quot;lineCap&quot;: &quot;round&quot;, &quot;lineJoin&quot;: &quot;round&quot;, &quot;opacity&quot;: 1.0, &quot;radius&quot;: 15.4, &quot;stroke&quot;: true, &quot;weight&quot;: 2}\n",
       "            ).addTo(map_7208273f1f19648c6e811f942a627197);\n",
       "        \n",
       "    \n",
       "        var popup_17caf38c225eb83887979e019fe27819 = L.popup({\n",
       "  &quot;maxWidth&quot;: 350,\n",
       "});\n",
       "\n",
       "        \n",
       "            \n",
       "                var html_b0bd439b58f3f4949774bcf42f849d31 = $(`&lt;div id=&quot;html_b0bd439b58f3f4949774bcf42f849d31&quot; style=&quot;width: 100.0%; height: 100.0%;&quot;&gt;     &lt;div style=&#x27;font-family: Arial; min-width: 200px;&#x27;&gt;         &lt;h4 style=&#x27;margin-bottom: 5px; color: #2ecc71;&#x27;&gt;🏖️ Papuma Beach&lt;/h4&gt;         &lt;hr style=&#x27;margin: 5px 0;&#x27;&gt;         &lt;b&gt;📂 Kategori:&lt;/b&gt; Wisata&lt;br&gt;         &lt;b&gt;📍 Kecamatan:&lt;/b&gt; Wuluhan&lt;br&gt;         &lt;b&gt;⭐ Rating:&lt;/b&gt; 4.7/5.0&lt;br&gt;         &lt;b&gt;👥 Kapasitas:&lt;/b&gt; 1,000 orang&lt;br&gt;         &lt;br&gt;         &lt;i style=&#x27;color: #7f8c8d; font-size: 11px;&#x27;&gt;Pantai pasir putih dengan tebing karang&lt;/i&gt;     &lt;/div&gt;     &lt;/div&gt;`)[0];\n",
       "                popup_17caf38c225eb83887979e019fe27819.setContent(html_b0bd439b58f3f4949774bcf42f849d31);\n",
       "            \n",
       "        \n",
       "\n",
       "        circle_marker_9281e17a36ebe4209bb6e61732a7624f.bindPopup(popup_17caf38c225eb83887979e019fe27819)\n",
       "        ;\n",
       "\n",
       "        \n",
       "    \n",
       "    \n",
       "            var circle_marker_4644c9689b2cfc5350e7d11a883b55ca = L.circleMarker(\n",
       "                [-8.2145, 113.3789],\n",
       "                {&quot;bubblingMouseEvents&quot;: true, &quot;color&quot;: &quot;#2ecc71&quot;, &quot;dashArray&quot;: null, &quot;dashOffset&quot;: null, &quot;fill&quot;: true, &quot;fillColor&quot;: &quot;#2ecc71&quot;, &quot;fillOpacity&quot;: 0.7, &quot;fillRule&quot;: &quot;evenodd&quot;, &quot;lineCap&quot;: &quot;round&quot;, &quot;lineJoin&quot;: &quot;round&quot;, &quot;opacity&quot;: 1.0, &quot;radius&quot;: 14.8, &quot;stroke&quot;: true, &quot;weight&quot;: 2}\n",
       "            ).addTo(map_7208273f1f19648c6e811f942a627197);\n",
       "        \n",
       "    \n",
       "        var popup_ae44212b7b4f13eeb7e85fedb8a370a8 = L.popup({\n",
       "  &quot;maxWidth&quot;: 350,\n",
       "});\n",
       "\n",
       "        \n",
       "            \n",
       "                var html_b6f0e5eaf3b23de66ff78e789915d38e = $(`&lt;div id=&quot;html_b6f0e5eaf3b23de66ff78e789915d38e&quot; style=&quot;width: 100.0%; height: 100.0%;&quot;&gt;     &lt;div style=&#x27;font-family: Arial; min-width: 200px;&#x27;&gt;         &lt;h4 style=&#x27;margin-bottom: 5px; color: #2ecc71;&#x27;&gt;🏖️ Air Terjun Tancak&lt;/h4&gt;         &lt;hr style=&#x27;margin: 5px 0;&#x27;&gt;         &lt;b&gt;📂 Kategori:&lt;/b&gt; Wisata&lt;br&gt;         &lt;b&gt;📍 Kecamatan:&lt;/b&gt; Panti&lt;br&gt;         &lt;b&gt;⭐ Rating:&lt;/b&gt; 4.4/5.0&lt;br&gt;         &lt;b&gt;👥 Kapasitas:&lt;/b&gt; 300 orang&lt;br&gt;         &lt;br&gt;         &lt;i style=&#x27;color: #7f8c8d; font-size: 11px;&#x27;&gt;Air terjun dengan kolam alami&lt;/i&gt;     &lt;/div&gt;     &lt;/div&gt;`)[0];\n",
       "                popup_ae44212b7b4f13eeb7e85fedb8a370a8.setContent(html_b6f0e5eaf3b23de66ff78e789915d38e);\n",
       "            \n",
       "        \n",
       "\n",
       "        circle_marker_4644c9689b2cfc5350e7d11a883b55ca.bindPopup(popup_ae44212b7b4f13eeb7e85fedb8a370a8)\n",
       "        ;\n",
       "\n",
       "        \n",
       "    \n",
       "    \n",
       "            var circle_marker_494707bda98c5762c972a7ed9af04385 = L.circleMarker(\n",
       "                [-8.1705, 113.7034],\n",
       "                {&quot;bubblingMouseEvents&quot;: true, &quot;color&quot;: &quot;#3498db&quot;, &quot;dashArray&quot;: null, &quot;dashOffset&quot;: null, &quot;fill&quot;: true, &quot;fillColor&quot;: &quot;#3498db&quot;, &quot;fillOpacity&quot;: 0.7, &quot;fillRule&quot;: &quot;evenodd&quot;, &quot;lineCap&quot;: &quot;round&quot;, &quot;lineJoin&quot;: &quot;round&quot;, &quot;opacity&quot;: 1.0, &quot;radius&quot;: 14.6, &quot;stroke&quot;: true, &quot;weight&quot;: 2}\n",
       "            ).addTo(map_7208273f1f19648c6e811f942a627197);\n",
       "        \n",
       "    \n",
       "        var popup_b51a5ae5cd0460f286016d5e0050f33c = L.popup({\n",
       "  &quot;maxWidth&quot;: 350,\n",
       "});\n",
       "\n",
       "        \n",
       "            \n",
       "                var html_b178891cb9c0e75156e7d07b5312dfdc = $(`&lt;div id=&quot;html_b178891cb9c0e75156e7d07b5312dfdc&quot; style=&quot;width: 100.0%; height: 100.0%;&quot;&gt;     &lt;div style=&#x27;font-family: Arial; min-width: 200px;&#x27;&gt;         &lt;h4 style=&#x27;margin-bottom: 5px; color: #3498db;&#x27;&gt;🎓 SMP Negeri 1 Jember&lt;/h4&gt;         &lt;hr style=&#x27;margin: 5px 0;&#x27;&gt;         &lt;b&gt;📂 Kategori:&lt;/b&gt; Pendidikan&lt;br&gt;         &lt;b&gt;📍 Kecamatan:&lt;/b&gt; Kaliwates&lt;br&gt;         &lt;b&gt;⭐ Rating:&lt;/b&gt; 4.3/5.0&lt;br&gt;         &lt;b&gt;👥 Kapasitas:&lt;/b&gt; 900 orang&lt;br&gt;         &lt;br&gt;         &lt;i style=&#x27;color: #7f8c8d; font-size: 11px;&#x27;&gt;Sekolah menengah pertama favorit&lt;/i&gt;     &lt;/div&gt;     &lt;/div&gt;`)[0];\n",
       "                popup_b51a5ae5cd0460f286016d5e0050f33c.setContent(html_b178891cb9c0e75156e7d07b5312dfdc);\n",
       "            \n",
       "        \n",
       "\n",
       "        circle_marker_494707bda98c5762c972a7ed9af04385.bindPopup(popup_b51a5ae5cd0460f286016d5e0050f33c)\n",
       "        ;\n",
       "\n",
       "        \n",
       "    \n",
       "    \n",
       "            var circle_marker_e2fc79f6a6b92f75fd30487589cc6e35 = L.circleMarker(\n",
       "                [-8.2911, 113.9081],\n",
       "                {&quot;bubblingMouseEvents&quot;: true, &quot;color&quot;: &quot;#e74c3c&quot;, &quot;dashArray&quot;: null, &quot;dashOffset&quot;: null, &quot;fill&quot;: true, &quot;fillColor&quot;: &quot;#e74c3c&quot;, &quot;fillOpacity&quot;: 0.7, &quot;fillRule&quot;: &quot;evenodd&quot;, &quot;lineCap&quot;: &quot;round&quot;, &quot;lineJoin&quot;: &quot;round&quot;, &quot;opacity&quot;: 1.0, &quot;radius&quot;: 13.8, &quot;stroke&quot;: true, &quot;weight&quot;: 2}\n",
       "            ).addTo(map_7208273f1f19648c6e811f942a627197);\n",
       "        \n",
       "    \n",
       "        var popup_f011cce6cb34b4b95835e255e8cfc424 = L.popup({\n",
       "  &quot;maxWidth&quot;: 350,\n",
       "});\n",
       "\n",
       "        \n",
       "            \n",
       "                var html_c7b7f10bd2b40127ef5a303663266a85 = $(`&lt;div id=&quot;html_c7b7f10bd2b40127ef5a303663266a85&quot; style=&quot;width: 100.0%; height: 100.0%;&quot;&gt;     &lt;div style=&#x27;font-family: Arial; min-width: 200px;&#x27;&gt;         &lt;h4 style=&#x27;margin-bottom: 5px; color: #e74c3c;&#x27;&gt;🏥 Puskesmas Balung&lt;/h4&gt;         &lt;hr style=&#x27;margin: 5px 0;&#x27;&gt;         &lt;b&gt;📂 Kategori:&lt;/b&gt; Kesehatan&lt;br&gt;         &lt;b&gt;📍 Kecamatan:&lt;/b&gt; Balung&lt;br&gt;         &lt;b&gt;⭐ Rating:&lt;/b&gt; 3.9/5.0&lt;br&gt;         &lt;b&gt;👥 Kapasitas:&lt;/b&gt; 150 orang&lt;br&gt;         &lt;br&gt;         &lt;i style=&#x27;color: #7f8c8d; font-size: 11px;&#x27;&gt;Pusat kesehatan masyarakat&lt;/i&gt;     &lt;/div&gt;     &lt;/div&gt;`)[0];\n",
       "                popup_f011cce6cb34b4b95835e255e8cfc424.setContent(html_c7b7f10bd2b40127ef5a303663266a85);\n",
       "            \n",
       "        \n",
       "\n",
       "        circle_marker_e2fc79f6a6b92f75fd30487589cc6e35.bindPopup(popup_f011cce6cb34b4b95835e255e8cfc424)\n",
       "        ;\n",
       "\n",
       "        \n",
       "    \n",
       "    \n",
       "            var circle_marker_1b623a4fed071a54b05625eb21eb9534 = L.circleMarker(\n",
       "                [-8.1672, 113.6978],\n",
       "                {&quot;bubblingMouseEvents&quot;: true, &quot;color&quot;: &quot;#9b59b6&quot;, &quot;dashArray&quot;: null, &quot;dashOffset&quot;: null, &quot;fill&quot;: true, &quot;fillColor&quot;: &quot;#9b59b6&quot;, &quot;fillOpacity&quot;: 0.7, &quot;fillRule&quot;: &quot;evenodd&quot;, &quot;lineCap&quot;: &quot;round&quot;, &quot;lineJoin&quot;: &quot;round&quot;, &quot;opacity&quot;: 1.0, &quot;radius&quot;: 14.2, &quot;stroke&quot;: true, &quot;weight&quot;: 2}\n",
       "            ).addTo(map_7208273f1f19648c6e811f942a627197);\n",
       "        \n",
       "    \n",
       "        var popup_cc38a11b17577ff5bcd9d0e3c94a4fee = L.popup({\n",
       "  &quot;maxWidth&quot;: 350,\n",
       "});\n",
       "\n",
       "        \n",
       "            \n",
       "                var html_979982f2892c239076ee0f2b1fd39cb6 = $(`&lt;div id=&quot;html_979982f2892c239076ee0f2b1fd39cb6&quot; style=&quot;width: 100.0%; height: 100.0%;&quot;&gt;     &lt;div style=&#x27;font-family: Arial; min-width: 200px;&#x27;&gt;         &lt;h4 style=&#x27;margin-bottom: 5px; color: #9b59b6;&#x27;&gt;🏛️ Alun-alun Jember&lt;/h4&gt;         &lt;hr style=&#x27;margin: 5px 0;&#x27;&gt;         &lt;b&gt;📂 Kategori:&lt;/b&gt; Ruang_Publik&lt;br&gt;         &lt;b&gt;📍 Kecamatan:&lt;/b&gt; Kaliwates&lt;br&gt;         &lt;b&gt;⭐ Rating:&lt;/b&gt; 4.1/5.0&lt;br&gt;         &lt;b&gt;👥 Kapasitas:&lt;/b&gt; 2,000 orang&lt;br&gt;         &lt;br&gt;         &lt;i style=&#x27;color: #7f8c8d; font-size: 11px;&#x27;&gt;Ruang terbuka publik pusat kota&lt;/i&gt;     &lt;/div&gt;     &lt;/div&gt;`)[0];\n",
       "                popup_cc38a11b17577ff5bcd9d0e3c94a4fee.setContent(html_979982f2892c239076ee0f2b1fd39cb6);\n",
       "            \n",
       "        \n",
       "\n",
       "        circle_marker_1b623a4fed071a54b05625eb21eb9534.bindPopup(popup_cc38a11b17577ff5bcd9d0e3c94a4fee)\n",
       "        ;\n",
       "\n",
       "        \n",
       "    \n",
       "    \n",
       "            var circle_marker_3a59d9218ff10c604ec9c2101a3c4510 = L.circleMarker(\n",
       "                [-8.1445, 113.6208],\n",
       "                {&quot;bubblingMouseEvents&quot;: true, &quot;color&quot;: &quot;#3498db&quot;, &quot;dashArray&quot;: null, &quot;dashOffset&quot;: null, &quot;fill&quot;: true, &quot;fillColor&quot;: &quot;#3498db&quot;, &quot;fillOpacity&quot;: 0.7, &quot;fillRule&quot;: &quot;evenodd&quot;, &quot;lineCap&quot;: &quot;round&quot;, &quot;lineJoin&quot;: &quot;round&quot;, &quot;opacity&quot;: 1.0, &quot;radius&quot;: 15.0, &quot;stroke&quot;: true, &quot;weight&quot;: 2}\n",
       "            ).addTo(map_7208273f1f19648c6e811f942a627197);\n",
       "        \n",
       "    \n",
       "        var popup_742a5d2cee8b21b36790a9ab32634a0d = L.popup({\n",
       "  &quot;maxWidth&quot;: 350,\n",
       "});\n",
       "\n",
       "        \n",
       "            \n",
       "                var html_9ea601e5aa000148d97e5051492595d8 = $(`&lt;div id=&quot;html_9ea601e5aa000148d97e5051492595d8&quot; style=&quot;width: 100.0%; height: 100.0%;&quot;&gt;     &lt;div style=&#x27;font-family: Arial; min-width: 200px;&#x27;&gt;         &lt;h4 style=&#x27;margin-bottom: 5px; color: #3498db;&#x27;&gt;🎓 Kampung Inggris&lt;/h4&gt;         &lt;hr style=&#x27;margin: 5px 0;&#x27;&gt;         &lt;b&gt;📂 Kategori:&lt;/b&gt; Pendidikan&lt;br&gt;         &lt;b&gt;📍 Kecamatan:&lt;/b&gt; Rambipuji&lt;br&gt;         &lt;b&gt;⭐ Rating:&lt;/b&gt; 4.5/5.0&lt;br&gt;         &lt;b&gt;👥 Kapasitas:&lt;/b&gt; 500 orang&lt;br&gt;         &lt;br&gt;         &lt;i style=&#x27;color: #7f8c8d; font-size: 11px;&#x27;&gt;Lembaga kursus bahasa Inggris&lt;/i&gt;     &lt;/div&gt;     &lt;/div&gt;`)[0];\n",
       "                popup_742a5d2cee8b21b36790a9ab32634a0d.setContent(html_9ea601e5aa000148d97e5051492595d8);\n",
       "            \n",
       "        \n",
       "\n",
       "        circle_marker_3a59d9218ff10c604ec9c2101a3c4510.bindPopup(popup_742a5d2cee8b21b36790a9ab32634a0d)\n",
       "        ;\n",
       "\n",
       "        \n",
       "    \n",
       "    \n",
       "            var circle_marker_7d1b68d9f9b242bd8f4e817c12c5d7eb = L.circleMarker(\n",
       "                [-8.1633, 113.4521],\n",
       "                {&quot;bubblingMouseEvents&quot;: true, &quot;color&quot;: &quot;#f39c12&quot;, &quot;dashArray&quot;: null, &quot;dashOffset&quot;: null, &quot;fill&quot;: true, &quot;fillColor&quot;: &quot;#f39c12&quot;, &quot;fillOpacity&quot;: 0.7, &quot;fillRule&quot;: &quot;evenodd&quot;, &quot;lineCap&quot;: &quot;round&quot;, &quot;lineJoin&quot;: &quot;round&quot;, &quot;opacity&quot;: 1.0, &quot;radius&quot;: 13.6, &quot;stroke&quot;: true, &quot;weight&quot;: 2}\n",
       "            ).addTo(map_7208273f1f19648c6e811f942a627197);\n",
       "        \n",
       "    \n",
       "        var popup_c6705d419095458837a953441b4648f4 = L.popup({\n",
       "  &quot;maxWidth&quot;: 350,\n",
       "});\n",
       "\n",
       "        \n",
       "            \n",
       "                var html_80d4ed0f70fdcc950bbe89696126aabd = $(`&lt;div id=&quot;html_80d4ed0f70fdcc950bbe89696126aabd&quot; style=&quot;width: 100.0%; height: 100.0%;&quot;&gt;     &lt;div style=&#x27;font-family: Arial; min-width: 200px;&#x27;&gt;         &lt;h4 style=&#x27;margin-bottom: 5px; color: #f39c12;&#x27;&gt;🏪 Pasar Tanggul&lt;/h4&gt;         &lt;hr style=&#x27;margin: 5px 0;&#x27;&gt;         &lt;b&gt;📂 Kategori:&lt;/b&gt; Ekonomi&lt;br&gt;         &lt;b&gt;📍 Kecamatan:&lt;/b&gt; Tanggul&lt;br&gt;         &lt;b&gt;⭐ Rating:&lt;/b&gt; 3.8/5.0&lt;br&gt;         &lt;b&gt;👥 Kapasitas:&lt;/b&gt; 400 orang&lt;br&gt;         &lt;br&gt;         &lt;i style=&#x27;color: #7f8c8d; font-size: 11px;&#x27;&gt;Pasar tradisional wilayah barat&lt;/i&gt;     &lt;/div&gt;     &lt;/div&gt;`)[0];\n",
       "                popup_c6705d419095458837a953441b4648f4.setContent(html_80d4ed0f70fdcc950bbe89696126aabd);\n",
       "            \n",
       "        \n",
       "\n",
       "        circle_marker_7d1b68d9f9b242bd8f4e817c12c5d7eb.bindPopup(popup_c6705d419095458837a953441b4648f4)\n",
       "        ;\n",
       "\n",
       "        \n",
       "    \n",
       "    \n",
       "            var circle_marker_a4c476fe2261249bf51601473da2c380 = L.circleMarker(\n",
       "                [-8.3856, 113.6234],\n",
       "                {&quot;bubblingMouseEvents&quot;: true, &quot;color&quot;: &quot;#2ecc71&quot;, &quot;dashArray&quot;: null, &quot;dashOffset&quot;: null, &quot;fill&quot;: true, &quot;fillColor&quot;: &quot;#2ecc71&quot;, &quot;fillOpacity&quot;: 0.7, &quot;fillRule&quot;: &quot;evenodd&quot;, &quot;lineCap&quot;: &quot;round&quot;, &quot;lineJoin&quot;: &quot;round&quot;, &quot;opacity&quot;: 1.0, &quot;radius&quot;: 14.6, &quot;stroke&quot;: true, &quot;weight&quot;: 2}\n",
       "            ).addTo(map_7208273f1f19648c6e811f942a627197);\n",
       "        \n",
       "    \n",
       "        var popup_ff6d0bb5b34f369ed3273d12929c9c00 = L.popup({\n",
       "  &quot;maxWidth&quot;: 350,\n",
       "});\n",
       "\n",
       "        \n",
       "            \n",
       "                var html_1a044c29a392ee7f1a3800ed5ecfed54 = $(`&lt;div id=&quot;html_1a044c29a392ee7f1a3800ed5ecfed54&quot; style=&quot;width: 100.0%; height: 100.0%;&quot;&gt;     &lt;div style=&#x27;font-family: Arial; min-width: 200px;&#x27;&gt;         &lt;h4 style=&#x27;margin-bottom: 5px; color: #2ecc71;&#x27;&gt;🏖️ Pantai Payangan&lt;/h4&gt;         &lt;hr style=&#x27;margin: 5px 0;&#x27;&gt;         &lt;b&gt;📂 Kategori:&lt;/b&gt; Wisata&lt;br&gt;         &lt;b&gt;📍 Kecamatan:&lt;/b&gt; Ambulu&lt;br&gt;         &lt;b&gt;⭐ Rating:&lt;/b&gt; 4.3/5.0&lt;br&gt;         &lt;b&gt;👥 Kapasitas:&lt;/b&gt; 800 orang&lt;br&gt;         &lt;br&gt;         &lt;i style=&#x27;color: #7f8c8d; font-size: 11px;&#x27;&gt;Pantai dengan pemandangan sunset&lt;/i&gt;     &lt;/div&gt;     &lt;/div&gt;`)[0];\n",
       "                popup_ff6d0bb5b34f369ed3273d12929c9c00.setContent(html_1a044c29a392ee7f1a3800ed5ecfed54);\n",
       "            \n",
       "        \n",
       "\n",
       "        circle_marker_a4c476fe2261249bf51601473da2c380.bindPopup(popup_ff6d0bb5b34f369ed3273d12929c9c00)\n",
       "        ;\n",
       "\n",
       "        \n",
       "    \n",
       "    \n",
       "            var circle_marker_ffa77d303f1993ae948c6291cbd5fcbc = L.circleMarker(\n",
       "                [-8.1589, 113.7156],\n",
       "                {&quot;bubblingMouseEvents&quot;: true, &quot;color&quot;: &quot;#e74c3c&quot;, &quot;dashArray&quot;: null, &quot;dashOffset&quot;: null, &quot;fill&quot;: true, &quot;fillColor&quot;: &quot;#e74c3c&quot;, &quot;fillOpacity&quot;: 0.7, &quot;fillRule&quot;: &quot;evenodd&quot;, &quot;lineCap&quot;: &quot;round&quot;, &quot;lineJoin&quot;: &quot;round&quot;, &quot;opacity&quot;: 1.0, &quot;radius&quot;: 14.2, &quot;stroke&quot;: true, &quot;weight&quot;: 2}\n",
       "            ).addTo(map_7208273f1f19648c6e811f942a627197);\n",
       "        \n",
       "    \n",
       "        var popup_262b2fe0755c0a3aebd75b230be4d9c0 = L.popup({\n",
       "  &quot;maxWidth&quot;: 350,\n",
       "});\n",
       "\n",
       "        \n",
       "            \n",
       "                var html_a9a94f328e5a17231abe26c28ac9ca4f = $(`&lt;div id=&quot;html_a9a94f328e5a17231abe26c28ac9ca4f&quot; style=&quot;width: 100.0%; height: 100.0%;&quot;&gt;     &lt;div style=&#x27;font-family: Arial; min-width: 200px;&#x27;&gt;         &lt;h4 style=&#x27;margin-bottom: 5px; color: #e74c3c;&#x27;&gt;🏥 RS Citra Husada&lt;/h4&gt;         &lt;hr style=&#x27;margin: 5px 0;&#x27;&gt;         &lt;b&gt;📂 Kategori:&lt;/b&gt; Kesehatan&lt;br&gt;         &lt;b&gt;📍 Kecamatan:&lt;/b&gt; Sumbersari&lt;br&gt;         &lt;b&gt;⭐ Rating:&lt;/b&gt; 4.1/5.0&lt;br&gt;         &lt;b&gt;👥 Kapasitas:&lt;/b&gt; 250 orang&lt;br&gt;         &lt;br&gt;         &lt;i style=&#x27;color: #7f8c8d; font-size: 11px;&#x27;&gt;Rumah sakit swasta modern&lt;/i&gt;     &lt;/div&gt;     &lt;/div&gt;`)[0];\n",
       "                popup_262b2fe0755c0a3aebd75b230be4d9c0.setContent(html_a9a94f328e5a17231abe26c28ac9ca4f);\n",
       "            \n",
       "        \n",
       "\n",
       "        circle_marker_ffa77d303f1993ae948c6291cbd5fcbc.bindPopup(popup_262b2fe0755c0a3aebd75b230be4d9c0)\n",
       "        ;\n",
       "\n",
       "        \n",
       "    \n",
       "    \n",
       "            var circle_marker_09ff51b3a0e280478a551590cad5f758 = L.circleMarker(\n",
       "                [-8.0789, 113.5445],\n",
       "                {&quot;bubblingMouseEvents&quot;: true, &quot;color&quot;: &quot;#f39c12&quot;, &quot;dashArray&quot;: null, &quot;dashOffset&quot;: null, &quot;fill&quot;: true, &quot;fillColor&quot;: &quot;#f39c12&quot;, &quot;fillOpacity&quot;: 0.7, &quot;fillRule&quot;: &quot;evenodd&quot;, &quot;lineCap&quot;: &quot;round&quot;, &quot;lineJoin&quot;: &quot;round&quot;, &quot;opacity&quot;: 1.0, &quot;radius&quot;: 14.4, &quot;stroke&quot;: true, &quot;weight&quot;: 2}\n",
       "            ).addTo(map_7208273f1f19648c6e811f942a627197);\n",
       "        \n",
       "    \n",
       "        var popup_2368719151801f219b9c0b704ce23af9 = L.popup({\n",
       "  &quot;maxWidth&quot;: 350,\n",
       "});\n",
       "\n",
       "        \n",
       "            \n",
       "                var html_69927fe7bc71367554f957035181b445 = $(`&lt;div id=&quot;html_69927fe7bc71367554f957035181b445&quot; style=&quot;width: 100.0%; height: 100.0%;&quot;&gt;     &lt;div style=&#x27;font-family: Arial; min-width: 200px;&#x27;&gt;         &lt;h4 style=&#x27;margin-bottom: 5px; color: #f39c12;&#x27;&gt;🏪 Perkebunan Kopi&lt;/h4&gt;         &lt;hr style=&#x27;margin: 5px 0;&#x27;&gt;         &lt;b&gt;📂 Kategori:&lt;/b&gt; Ekonomi&lt;br&gt;         &lt;b&gt;📍 Kecamatan:&lt;/b&gt; Silo&lt;br&gt;         &lt;b&gt;⭐ Rating:&lt;/b&gt; 4.2/5.0&lt;br&gt;         &lt;b&gt;👥 Kapasitas:&lt;/b&gt; 200 orang&lt;br&gt;         &lt;br&gt;         &lt;i style=&#x27;color: #7f8c8d; font-size: 11px;&#x27;&gt;Agrowisata perkebunan kopi&lt;/i&gt;     &lt;/div&gt;     &lt;/div&gt;`)[0];\n",
       "                popup_2368719151801f219b9c0b704ce23af9.setContent(html_69927fe7bc71367554f957035181b445);\n",
       "            \n",
       "        \n",
       "\n",
       "        circle_marker_09ff51b3a0e280478a551590cad5f758.bindPopup(popup_2368719151801f219b9c0b704ce23af9)\n",
       "        ;\n",
       "\n",
       "        \n",
       "    \n",
       "    \n",
       "            var circle_marker_68f5983cb264bc27c5b2bd12127bcc54 = L.circleMarker(\n",
       "                [-8.1822, 113.6634],\n",
       "                {&quot;bubblingMouseEvents&quot;: true, &quot;color&quot;: &quot;#2ecc71&quot;, &quot;dashArray&quot;: null, &quot;dashOffset&quot;: null, &quot;fill&quot;: true, &quot;fillColor&quot;: &quot;#2ecc71&quot;, &quot;fillOpacity&quot;: 0.7, &quot;fillRule&quot;: &quot;evenodd&quot;, &quot;lineCap&quot;: &quot;round&quot;, &quot;lineJoin&quot;: &quot;round&quot;, &quot;opacity&quot;: 1.0, &quot;radius&quot;: 14.0, &quot;stroke&quot;: true, &quot;weight&quot;: 2}\n",
       "            ).addTo(map_7208273f1f19648c6e811f942a627197);\n",
       "        \n",
       "    \n",
       "        var popup_e5bb9c13cc16748ad30cb63818f89f26 = L.popup({\n",
       "  &quot;maxWidth&quot;: 350,\n",
       "});\n",
       "\n",
       "        \n",
       "            \n",
       "                var html_3f4e4f6fcb88619f3a3ba3153653ec37 = $(`&lt;div id=&quot;html_3f4e4f6fcb88619f3a3ba3153653ec37&quot; style=&quot;width: 100.0%; height: 100.0%;&quot;&gt;     &lt;div style=&#x27;font-family: Arial; min-width: 200px;&#x27;&gt;         &lt;h4 style=&#x27;margin-bottom: 5px; color: #2ecc71;&#x27;&gt;🏖️ Taman Botani&lt;/h4&gt;         &lt;hr style=&#x27;margin: 5px 0;&#x27;&gt;         &lt;b&gt;📂 Kategori:&lt;/b&gt; Wisata&lt;br&gt;         &lt;b&gt;📍 Kecamatan:&lt;/b&gt; Patrang&lt;br&gt;         &lt;b&gt;⭐ Rating:&lt;/b&gt; 4.0/5.0&lt;br&gt;         &lt;b&gt;👥 Kapasitas:&lt;/b&gt; 600 orang&lt;br&gt;         &lt;br&gt;         &lt;i style=&#x27;color: #7f8c8d; font-size: 11px;&#x27;&gt;Taman dengan koleksi flora langka&lt;/i&gt;     &lt;/div&gt;     &lt;/div&gt;`)[0];\n",
       "                popup_e5bb9c13cc16748ad30cb63818f89f26.setContent(html_3f4e4f6fcb88619f3a3ba3153653ec37);\n",
       "            \n",
       "        \n",
       "\n",
       "        circle_marker_68f5983cb264bc27c5b2bd12127bcc54.bindPopup(popup_e5bb9c13cc16748ad30cb63818f89f26)\n",
       "        ;\n",
       "\n",
       "        \n",
       "    \n",
       "    \n",
       "            var circle_marker_6e35fec106a475071b4ba82ab2b56647 = L.circleMarker(\n",
       "                [-8.1545, 113.7089],\n",
       "                {&quot;bubblingMouseEvents&quot;: true, &quot;color&quot;: &quot;#9b59b6&quot;, &quot;dashArray&quot;: null, &quot;dashOffset&quot;: null, &quot;fill&quot;: true, &quot;fillColor&quot;: &quot;#9b59b6&quot;, &quot;fillOpacity&quot;: 0.7, &quot;fillRule&quot;: &quot;evenodd&quot;, &quot;lineCap&quot;: &quot;round&quot;, &quot;lineJoin&quot;: &quot;round&quot;, &quot;opacity&quot;: 1.0, &quot;radius&quot;: 14.4, &quot;stroke&quot;: true, &quot;weight&quot;: 2}\n",
       "            ).addTo(map_7208273f1f19648c6e811f942a627197);\n",
       "        \n",
       "    \n",
       "        var popup_dd6f70da9736f4a5a6bf9c0b63a3ad2c = L.popup({\n",
       "  &quot;maxWidth&quot;: 350,\n",
       "});\n",
       "\n",
       "        \n",
       "            \n",
       "                var html_edbc30efab92769ffa3c096792768208 = $(`&lt;div id=&quot;html_edbc30efab92769ffa3c096792768208&quot; style=&quot;width: 100.0%; height: 100.0%;&quot;&gt;     &lt;div style=&#x27;font-family: Arial; min-width: 200px;&#x27;&gt;         &lt;h4 style=&#x27;margin-bottom: 5px; color: #9b59b6;&#x27;&gt;🏛️ Stadion Jember&lt;/h4&gt;         &lt;hr style=&#x27;margin: 5px 0;&#x27;&gt;         &lt;b&gt;📂 Kategori:&lt;/b&gt; Ruang_Publik&lt;br&gt;         &lt;b&gt;📍 Kecamatan:&lt;/b&gt; Kaliwates&lt;br&gt;         &lt;b&gt;⭐ Rating:&lt;/b&gt; 4.2/5.0&lt;br&gt;         &lt;b&gt;👥 Kapasitas:&lt;/b&gt; 15,000 orang&lt;br&gt;         &lt;br&gt;         &lt;i style=&#x27;color: #7f8c8d; font-size: 11px;&#x27;&gt;Stadion sepak bola kabupaten&lt;/i&gt;     &lt;/div&gt;     &lt;/div&gt;`)[0];\n",
       "                popup_dd6f70da9736f4a5a6bf9c0b63a3ad2c.setContent(html_edbc30efab92769ffa3c096792768208);\n",
       "            \n",
       "        \n",
       "\n",
       "        circle_marker_6e35fec106a475071b4ba82ab2b56647.bindPopup(popup_dd6f70da9736f4a5a6bf9c0b63a3ad2c)\n",
       "        ;\n",
       "\n",
       "        \n",
       "    \n",
       "    \n",
       "            var circle_marker_c7754bb802048112ab79911c8c643dc5 = L.circleMarker(\n",
       "                [-8.1593, 113.7213],\n",
       "                {&quot;bubblingMouseEvents&quot;: true, &quot;color&quot;: &quot;#3498db&quot;, &quot;dashArray&quot;: null, &quot;dashOffset&quot;: null, &quot;fill&quot;: true, &quot;fillColor&quot;: &quot;#3498db&quot;, &quot;fillOpacity&quot;: 0.7, &quot;fillRule&quot;: &quot;evenodd&quot;, &quot;lineCap&quot;: &quot;round&quot;, &quot;lineJoin&quot;: &quot;round&quot;, &quot;opacity&quot;: 1.0, &quot;radius&quot;: 14.8, &quot;stroke&quot;: true, &quot;weight&quot;: 2}\n",
       "            ).addTo(map_7208273f1f19648c6e811f942a627197);\n",
       "        \n",
       "    \n",
       "        var popup_ea4619de4db611de59735f6f0ec877fb = L.popup({\n",
       "  &quot;maxWidth&quot;: 350,\n",
       "});\n",
       "\n",
       "        \n",
       "            \n",
       "                var html_cc6e44d0847f48eb9da457dd00af69bc = $(`&lt;div id=&quot;html_cc6e44d0847f48eb9da457dd00af69bc&quot; style=&quot;width: 100.0%; height: 100.0%;&quot;&gt;     &lt;div style=&#x27;font-family: Arial; min-width: 200px;&#x27;&gt;         &lt;h4 style=&#x27;margin-bottom: 5px; color: #3498db;&#x27;&gt;🎓 SMKN 1 Jember&lt;/h4&gt;         &lt;hr style=&#x27;margin: 5px 0;&#x27;&gt;         &lt;b&gt;📂 Kategori:&lt;/b&gt; Pendidikan&lt;br&gt;         &lt;b&gt;📍 Kecamatan:&lt;/b&gt; Sumbersari&lt;br&gt;         &lt;b&gt;⭐ Rating:&lt;/b&gt; 4.4/5.0&lt;br&gt;         &lt;b&gt;👥 Kapasitas:&lt;/b&gt; 1,500 orang&lt;br&gt;         &lt;br&gt;         &lt;i style=&#x27;color: #7f8c8d; font-size: 11px;&#x27;&gt;Sekolah kejuruan teknik&lt;/i&gt;     &lt;/div&gt;     &lt;/div&gt;`)[0];\n",
       "                popup_ea4619de4db611de59735f6f0ec877fb.setContent(html_cc6e44d0847f48eb9da457dd00af69bc);\n",
       "            \n",
       "        \n",
       "\n",
       "        circle_marker_c7754bb802048112ab79911c8c643dc5.bindPopup(popup_ea4619de4db611de59735f6f0ec877fb)\n",
       "        ;\n",
       "\n",
       "        \n",
       "    \n",
       "    \n",
       "            var circle_marker_fcd8973209bb2efba1ebccb127142325 = L.circleMarker(\n",
       "                [-8.2847, 113.3679],\n",
       "                {&quot;bubblingMouseEvents&quot;: true, &quot;color&quot;: &quot;#f39c12&quot;, &quot;dashArray&quot;: null, &quot;dashOffset&quot;: null, &quot;fill&quot;: true, &quot;fillColor&quot;: &quot;#f39c12&quot;, &quot;fillOpacity&quot;: 0.7, &quot;fillRule&quot;: &quot;evenodd&quot;, &quot;lineCap&quot;: &quot;round&quot;, &quot;lineJoin&quot;: &quot;round&quot;, &quot;opacity&quot;: 1.0, &quot;radius&quot;: 13.4, &quot;stroke&quot;: true, &quot;weight&quot;: 2}\n",
       "            ).addTo(map_7208273f1f19648c6e811f942a627197);\n",
       "        \n",
       "    \n",
       "        var popup_46cfd62438ea3c0293355de9115527a3 = L.popup({\n",
       "  &quot;maxWidth&quot;: 350,\n",
       "});\n",
       "\n",
       "        \n",
       "            \n",
       "                var html_3d795d90a91a2753d059fecbd1604825 = $(`&lt;div id=&quot;html_3d795d90a91a2753d059fecbd1604825&quot; style=&quot;width: 100.0%; height: 100.0%;&quot;&gt;     &lt;div style=&#x27;font-family: Arial; min-width: 200px;&#x27;&gt;         &lt;h4 style=&#x27;margin-bottom: 5px; color: #f39c12;&#x27;&gt;🏪 Pasar Kencong&lt;/h4&gt;         &lt;hr style=&#x27;margin: 5px 0;&#x27;&gt;         &lt;b&gt;📂 Kategori:&lt;/b&gt; Ekonomi&lt;br&gt;         &lt;b&gt;📍 Kecamatan:&lt;/b&gt; Kencong&lt;br&gt;         &lt;b&gt;⭐ Rating:&lt;/b&gt; 3.7/5.0&lt;br&gt;         &lt;b&gt;👥 Kapasitas:&lt;/b&gt; 350 orang&lt;br&gt;         &lt;br&gt;         &lt;i style=&#x27;color: #7f8c8d; font-size: 11px;&#x27;&gt;Pasar tradisional wilayah selatan&lt;/i&gt;     &lt;/div&gt;     &lt;/div&gt;`)[0];\n",
       "                popup_46cfd62438ea3c0293355de9115527a3.setContent(html_3d795d90a91a2753d059fecbd1604825);\n",
       "            \n",
       "        \n",
       "\n",
       "        circle_marker_fcd8973209bb2efba1ebccb127142325.bindPopup(popup_46cfd62438ea3c0293355de9115527a3)\n",
       "        ;\n",
       "\n",
       "        \n",
       "    \n",
       "    \n",
       "            var circle_marker_f423f50ec5ecbfa275d7ade3f50482a2 = L.circleMarker(\n",
       "                [-8.1234, 113.6789],\n",
       "                {&quot;bubblingMouseEvents&quot;: true, &quot;color&quot;: &quot;#2ecc71&quot;, &quot;dashArray&quot;: null, &quot;dashOffset&quot;: null, &quot;fill&quot;: true, &quot;fillColor&quot;: &quot;#2ecc71&quot;, &quot;fillOpacity&quot;: 0.7, &quot;fillRule&quot;: &quot;evenodd&quot;, &quot;lineCap&quot;: &quot;round&quot;, &quot;lineJoin&quot;: &quot;round&quot;, &quot;opacity&quot;: 1.0, &quot;radius&quot;: 14.2, &quot;stroke&quot;: true, &quot;weight&quot;: 2}\n",
       "            ).addTo(map_7208273f1f19648c6e811f942a627197);\n",
       "        \n",
       "    \n",
       "        var popup_92599dff042f90e2b2d3421b478b4c80 = L.popup({\n",
       "  &quot;maxWidth&quot;: 350,\n",
       "});\n",
       "\n",
       "        \n",
       "            \n",
       "                var html_b3be87d6f3abc9d1a1c2739007187aa4 = $(`&lt;div id=&quot;html_b3be87d6f3abc9d1a1c2739007187aa4&quot; style=&quot;width: 100.0%; height: 100.0%;&quot;&gt;     &lt;div style=&#x27;font-family: Arial; min-width: 200px;&#x27;&gt;         &lt;h4 style=&#x27;margin-bottom: 5px; color: #2ecc71;&#x27;&gt;🏖️ Waduk Sempor&lt;/h4&gt;         &lt;hr style=&#x27;margin: 5px 0;&#x27;&gt;         &lt;b&gt;📂 Kategori:&lt;/b&gt; Wisata&lt;br&gt;         &lt;b&gt;📍 Kecamatan:&lt;/b&gt; Sukorambi&lt;br&gt;         &lt;b&gt;⭐ Rating:&lt;/b&gt; 4.1/5.0&lt;br&gt;         &lt;b&gt;👥 Kapasitas:&lt;/b&gt; 500 orang&lt;br&gt;         &lt;br&gt;         &lt;i style=&#x27;color: #7f8c8d; font-size: 11px;&#x27;&gt;Waduk untuk pemancingan&lt;/i&gt;     &lt;/div&gt;     &lt;/div&gt;`)[0];\n",
       "                popup_92599dff042f90e2b2d3421b478b4c80.setContent(html_b3be87d6f3abc9d1a1c2739007187aa4);\n",
       "            \n",
       "        \n",
       "\n",
       "        circle_marker_f423f50ec5ecbfa275d7ade3f50482a2.bindPopup(popup_92599dff042f90e2b2d3421b478b4c80)\n",
       "        ;\n",
       "\n",
       "        \n",
       "    \n",
       "    \n",
       "            var circle_marker_e0fa38c20353b9188d48cbd65a922892 = L.circleMarker(\n",
       "                [-8.1756, 113.6912],\n",
       "                {&quot;bubblingMouseEvents&quot;: true, &quot;color&quot;: &quot;#34495e&quot;, &quot;dashArray&quot;: null, &quot;dashOffset&quot;: null, &quot;fill&quot;: true, &quot;fillColor&quot;: &quot;#34495e&quot;, &quot;fillOpacity&quot;: 0.7, &quot;fillRule&quot;: &quot;evenodd&quot;, &quot;lineCap&quot;: &quot;round&quot;, &quot;lineJoin&quot;: &quot;round&quot;, &quot;opacity&quot;: 1.0, &quot;radius&quot;: 13.2, &quot;stroke&quot;: true, &quot;weight&quot;: 2}\n",
       "            ).addTo(map_7208273f1f19648c6e811f942a627197);\n",
       "        \n",
       "    \n",
       "        var popup_41735531c946b3a48b959e8bf392cc59 = L.popup({\n",
       "  &quot;maxWidth&quot;: 350,\n",
       "});\n",
       "\n",
       "        \n",
       "            \n",
       "                var html_3077eb6c4dedd103a30c6ba377eabeac = $(`&lt;div id=&quot;html_3077eb6c4dedd103a30c6ba377eabeac&quot; style=&quot;width: 100.0%; height: 100.0%;&quot;&gt;     &lt;div style=&#x27;font-family: Arial; min-width: 200px;&#x27;&gt;         &lt;h4 style=&#x27;margin-bottom: 5px; color: #34495e;&#x27;&gt;🚌 Terminal Tawang Alun&lt;/h4&gt;         &lt;hr style=&#x27;margin: 5px 0;&#x27;&gt;         &lt;b&gt;📂 Kategori:&lt;/b&gt; Transportasi&lt;br&gt;         &lt;b&gt;📍 Kecamatan:&lt;/b&gt; Kaliwates&lt;br&gt;         &lt;b&gt;⭐ Rating:&lt;/b&gt; 3.6/5.0&lt;br&gt;         &lt;b&gt;👥 Kapasitas:&lt;/b&gt; 3,000 orang&lt;br&gt;         &lt;br&gt;         &lt;i style=&#x27;color: #7f8c8d; font-size: 11px;&#x27;&gt;Terminal bus antar kota&lt;/i&gt;     &lt;/div&gt;     &lt;/div&gt;`)[0];\n",
       "                popup_41735531c946b3a48b959e8bf392cc59.setContent(html_3077eb6c4dedd103a30c6ba377eabeac);\n",
       "            \n",
       "        \n",
       "\n",
       "        circle_marker_e0fa38c20353b9188d48cbd65a922892.bindPopup(popup_41735531c946b3a48b959e8bf392cc59)\n",
       "        ;\n",
       "\n",
       "        \n",
       "    \n",
       "    \n",
       "            tile_layer_3169520fecc5d08f16c1ce4731c260ec.addTo(map_7208273f1f19648c6e811f942a627197);\n",
       "        \n",
       "&lt;/script&gt;\n",
       "&lt;/html&gt;\" style=\"position:absolute;width:100%;height:100%;left:0;top:0;border:none !important;\" allowfullscreen webkitallowfullscreen mozallowfullscreen></iframe></div></div>"
      ],
      "text/plain": [
       "<folium.folium.Map at 0x757bf817ba40>"
      ]
     },
     "execution_count": 4,
     "metadata": {},
     "output_type": "execute_result"
    }
   ],
   "source": [
    "# Simpan ke file HTML\n",
    "output_path = ROOT / 'exports' / 'map_fasilitas_folium.html'\n",
    "output_path.parent.mkdir(parents=True, exist_ok=True)  # buat folder exports jika belum ada\n",
    "m.save(str(output_path))\n",
    "print(f'💾 Peta disimpan ke: {output_path}')\n",
    "print(f'🌐 Buka file HTML di browser untuk melihat peta interaktif!')\n",
    "\n",
    "# Tampilkan peta di Jupyter (jika dijalankan di Jupyter)\n",
    "m"
   ]
  },
  {
   "cell_type": "markdown",
   "id": "aed0be0b",
   "metadata": {},
   "source": [
    "> **🎯 COBA SEKARANG:**\n",
    "> 1. Buka file `exports/map_fasilitas_folium.html` di browser\n",
    "> 2. Zoom in/out dengan scroll mouse\n",
    "> 3. Klik marker untuk lihat popup dengan detail fasilitas\n",
    "> 4. Drag untuk menggeser peta\n",
    "> 5. Perhatikan ukuran marker yang berbeda berdasarkan rating!\n",
    "\n",
    "---\n",
    "\n",
    "## 📊 BAGIAN 2: Plotly - Visualisasi Interaktif Modern\n",
    "\n",
    "### Apa itu Plotly?\n",
    "\n",
    "**Plotly** adalah library visualisasi modern dengan fitur interaktif canggih.\n",
    "\n",
    "**Kelebihan:**\n",
    "- ✅ Styling sangat fleksibel\n",
    "- ✅ Terintegrasi dengan dashboard (Dash)\n",
    "- ✅ Animasi & interaksi smooth\n",
    "- ✅ Performa baik untuk ribuan titik\n",
    "\n",
    "**Kekurangan:**\n",
    "- ⚠️ Beberapa style Mapbox butuh token (gratis, tapi perlu daftar)\n",
    "- ⚠️ Sedikit lebih kompleks daripada Folium\n",
    "\n",
    "---\n",
    "\n",
    "### Membuat Scatter Mapbox dengan Plotly"
   ]
  },
  {
   "cell_type": "code",
   "execution_count": 5,
   "id": "a926125a",
   "metadata": {},
   "outputs": [
    {
     "name": "stdout",
     "output_type": "stream",
     "text": [
      "🎨 Membuat peta Plotly...\n"
     ]
    },
    {
     "name": "stderr",
     "output_type": "stream",
     "text": [
      "/tmp/ipykernel_1428/2749522973.py:10: DeprecationWarning: *scatter_mapbox* is deprecated! Use *scatter_map* instead. Learn more at: https://plotly.com/python/mapbox-to-maplibre/\n",
      "  fig = px.scatter_mapbox(\n"
     ]
    },
    {
     "name": "stdout",
     "output_type": "stream",
     "text": [
      "✅ Peta Plotly berhasil dibuat!\n",
      "🖱️ Hover di titik untuk melihat detail fasilitas\n"
     ]
    },
    {
     "data": {
      "application/vnd.plotly.v1+json": {
       "config": {
        "plotlyServerURL": "https://plot.ly"
       },
       "data": [
        {
         "customdata": [
          [
           -8.165,
           113.6995,
           "Kaliwates",
           4.5,
           1200,
           "Sekolah menengah favorit di pusat kota"
          ],
          [
           -8.1652,
           113.722,
           "Sumbersari",
           4.6,
           35000,
           "Kampus universitas negeri terbesar"
          ],
          [
           -8.1705,
           113.7034,
           "Kaliwates",
           4.3,
           900,
           "Sekolah menengah pertama favorit"
          ],
          [
           -8.1445,
           113.6208,
           "Rambipuji",
           4.5,
           500,
           "Lembaga kursus bahasa Inggris"
          ],
          [
           -8.1593,
           113.7213,
           "Sumbersari",
           4.4,
           1500,
           "Sekolah kejuruan teknik"
          ]
         ],
         "hovertemplate": "<b>%{hovertext}</b><br><br>kategori=pendidikan<br>rating=%{customdata[3]:.1f}<br>kecamatan=%{customdata[2]}<br>kapasitas=%{customdata[4]:,}<br>deskripsi=%{customdata[5]}<extra></extra>",
         "hovertext": [
          "SMAN 1 Jember",
          "Universitas Jember",
          "SMP Negeri 1 Jember",
          "Kampung Inggris",
          "SMKN 1 Jember"
         ],
         "lat": {
          "bdata": "FK5H4XpUIMAxmSoYlVQgwJ7vp8ZLVyDARIts5/tJIMBvgQTFj1EgwA==",
          "dtype": "f8"
         },
         "legendgroup": "pendidikan",
         "lon": {
          "bdata": "VOOlm8RsXECR7Xw/NW5cQGkAb4EEbVxA1lbsL7tnXEC1pnnHKW5cQA==",
          "dtype": "f8"
         },
         "marker": {
          "color": "rgb(102,194,165)",
          "size": {
           "bdata": "AAAAAAAAEkBmZmZmZmYSQDMzMzMzMxFAAAAAAAAAEkCamZmZmZkRQA==",
           "dtype": "f8"
          },
          "sizemin": 8,
          "sizemode": "diameter",
          "sizeref": 0.1
         },
         "mode": "markers",
         "name": "pendidikan",
         "showlegend": true,
         "subplot": "mapbox",
         "type": "scattermapbox"
        },
        {
         "customdata": [
          [
           -8.1734,
           113.6801,
           "Patrang",
           4.2,
           450,
           "Rumah sakit rujukan utama Jember"
          ],
          [
           -8.2911,
           113.9081,
           "Balung",
           3.9,
           150,
           "Pusat kesehatan masyarakat"
          ],
          [
           -8.1589,
           113.7156,
           "Sumbersari",
           4.1,
           250,
           "Rumah sakit swasta modern"
          ]
         ],
         "hovertemplate": "<b>%{hovertext}</b><br><br>kategori=kesehatan<br>rating=%{customdata[3]:.1f}<br>kecamatan=%{customdata[2]}<br>kapasitas=%{customdata[4]:,}<br>deskripsi=%{customdata[5]}<extra></extra>",
         "hovertext": [
          "RSUD dr. Soebandi",
          "Puskesmas Balung",
          "RS Citra Husada"
         ],
         "lat": {
          "bdata": "uECC4sdYIMAwuycPC5UgwDarPldbUSDA",
          "dtype": "f8"
         },
         "legendgroup": "kesehatan",
         "lon": {
          "bdata": "nYAmwoZrXEDZX3ZPHnpcQCBB8WPMbVxA",
          "dtype": "f8"
         },
         "marker": {
          "color": "rgb(252,141,98)",
          "size": {
           "bdata": "zczMzMzMEEAzMzMzMzMPQGZmZmZmZhBA",
           "dtype": "f8"
          },
          "sizemin": 8,
          "sizemode": "diameter",
          "sizeref": 0.1
         },
         "mode": "markers",
         "name": "kesehatan",
         "showlegend": true,
         "subplot": "mapbox",
         "type": "scattermapbox"
        },
        {
         "customdata": [
          [
           -8.1689,
           113.6945,
           "Kaliwates",
           4,
           500,
           "Pasar tradisional pusat kota"
          ],
          [
           -8.1633,
           113.4521,
           "Tanggul",
           3.8,
           400,
           "Pasar tradisional wilayah barat"
          ],
          [
           -8.0789,
           113.5445,
           "Silo",
           4.2,
           200,
           "Agrowisata perkebunan kopi"
          ],
          [
           -8.2847,
           113.3679,
           "Kencong",
           3.7,
           350,
           "Pasar tradisional wilayah selatan"
          ]
         ],
         "hovertemplate": "<b>%{hovertext}</b><br><br>kategori=ekonomi<br>rating=%{customdata[3]:.1f}<br>kecamatan=%{customdata[2]}<br>kapasitas=%{customdata[4]:,}<br>deskripsi=%{customdata[5]}<extra></extra>",
         "hovertext": [
          "Pasar Tanjung",
          "Pasar Tanggul",
          "Perkebunan Kopi",
          "Pasar Kencong"
         ],
         "lat": {
          "bdata": "vJaQD3pWIMCk374OnFMgwA5Pr5RlKCDAqFfKMsSRIMA=",
          "dtype": "f8"
         },
         "legendgroup": "ekonomi",
         "lon": {
          "bdata": "nMQgsHJsXEBiodY071xcQAIrhxbZYlxAswxxrItXXEA=",
          "dtype": "f8"
         },
         "marker": {
          "color": "rgb(141,160,203)",
          "size": {
           "bdata": "AAAAAAAAEEBmZmZmZmYOQM3MzMzMzBBAmpmZmZmZDUA=",
           "dtype": "f8"
          },
          "sizemin": 8,
          "sizemode": "diameter",
          "sizeref": 0.1
         },
         "mode": "markers",
         "name": "ekonomi",
         "showlegend": true,
         "subplot": "mapbox",
         "type": "scattermapbox"
        },
        {
         "customdata": [
          [
           -8.2789,
           113.8689,
           "Wuluhan",
           4.7,
           1000,
           "Pantai pasir putih dengan tebing karang"
          ],
          [
           -8.2145,
           113.3789,
           "Panti",
           4.4,
           300,
           "Air terjun dengan kolam alami"
          ],
          [
           -8.3856,
           113.6234,
           "Ambulu",
           4.3,
           800,
           "Pantai dengan pemandangan sunset"
          ],
          [
           -8.1822,
           113.6634,
           "Patrang",
           4,
           600,
           "Taman dengan koleksi flora langka"
          ],
          [
           -8.1234,
           113.6789,
           "Sukorambi",
           4.1,
           500,
           "Waduk untuk pemancingan"
          ]
         ],
         "hovertemplate": "<b>%{hovertext}</b><br><br>kategori=wisata<br>rating=%{customdata[3]:.1f}<br>kecamatan=%{customdata[2]}<br>kapasitas=%{customdata[4]:,}<br>deskripsi=%{customdata[5]}<extra></extra>",
         "hovertext": [
          "Papuma Beach",
          "Air Terjun Tancak",
          "Pantai Payangan",
          "Taman Botani",
          "Waduk Sempor"
         ],
         "lat": {
          "bdata": "dLUV+8uOIMDn+6nx0m0gwNqs+lxtxSDAk6mCUUldIMAep+hILj8gwA==",
          "dtype": "f8"
         },
         "legendgroup": "wisata",
         "lon": {
          "bdata": "pN++Dpx3XEAVHcnlP1hcQOQUHcnlZ1xApgpGJXVqXEBIUPwYc2tcQA==",
          "dtype": "f8"
         },
         "marker": {
          "color": "rgb(231,138,195)",
          "size": {
           "bdata": "zczMzMzMEkCamZmZmZkRQDMzMzMzMxFAAAAAAAAAEEBmZmZmZmYQQA==",
           "dtype": "f8"
          },
          "sizemin": 8,
          "sizemode": "diameter",
          "sizeref": 0.1
         },
         "mode": "markers",
         "name": "wisata",
         "showlegend": true,
         "subplot": "mapbox",
         "type": "scattermapbox"
        },
        {
         "customdata": [
          [
           -8.1672,
           113.6978,
           "Kaliwates",
           4.1,
           2000,
           "Ruang terbuka publik pusat kota"
          ],
          [
           -8.1545,
           113.7089,
           "Kaliwates",
           4.2,
           15000,
           "Stadion sepak bola kabupaten"
          ]
         ],
         "hovertemplate": "<b>%{hovertext}</b><br><br>kategori=ruang_publik<br>rating=%{customdata[3]:.1f}<br>kecamatan=%{customdata[2]}<br>kapasitas=%{customdata[4]:,}<br>deskripsi=%{customdata[5]}<extra></extra>",
         "hovertext": [
          "Alun-alun Jember",
          "Stadion Jember"
         ],
         "lat": {
          "bdata": "S8gHPZtVIMDJdr6fGk8gwA==",
          "dtype": "f8"
         },
         "legendgroup": "ruang_publik",
         "lon": {
          "bdata": "hslUwahsXECaCBueXm1cQA==",
          "dtype": "f8"
         },
         "marker": {
          "color": "rgb(166,216,84)",
          "size": {
           "bdata": "ZmZmZmZmEEDNzMzMzMwQQA==",
           "dtype": "f8"
          },
          "sizemin": 8,
          "sizemode": "diameter",
          "sizeref": 0.1
         },
         "mode": "markers",
         "name": "ruang_publik",
         "showlegend": true,
         "subplot": "mapbox",
         "type": "scattermapbox"
        },
        {
         "customdata": [
          [
           -8.1756,
           113.6912,
           "Kaliwates",
           3.6,
           3000,
           "Terminal bus antar kota"
          ]
         ],
         "hovertemplate": "<b>%{hovertext}</b><br><br>kategori=transportasi<br>rating=%{customdata[3]:.1f}<br>kecamatan=%{customdata[2]}<br>kapasitas=%{customdata[4]:,}<br>deskripsi=%{customdata[5]}<extra></extra>",
         "hovertext": [
          "Terminal Tawang Alun"
         ],
         "lat": {
          "bdata": "7lpCPuhZIMA=",
          "dtype": "f8"
         },
         "legendgroup": "transportasi",
         "lon": {
          "bdata": "sb/snjxsXEA=",
          "dtype": "f8"
         },
         "marker": {
          "color": "rgb(255,217,47)",
          "size": {
           "bdata": "zczMzMzMDEA=",
           "dtype": "f8"
          },
          "sizemin": 8,
          "sizemode": "diameter",
          "sizeref": 0.1
         },
         "mode": "markers",
         "name": "transportasi",
         "showlegend": true,
         "subplot": "mapbox",
         "type": "scattermapbox"
        }
       ],
       "layout": {
        "font": {
         "family": "Arial",
         "size": 12
        },
        "height": 650,
        "legend": {
         "itemsizing": "constant",
         "title": {
          "text": "kategori"
         },
         "tracegroupgap": 0
        },
        "mapbox": {
         "center": {
          "lat": -8.19028,
          "lon": 113.65706
         },
         "domain": {
          "x": [
           0,
           1
          ],
          "y": [
           0,
           1
          ]
         },
         "style": "carto-positron",
         "zoom": 9
        },
        "margin": {
         "b": 0,
         "l": 0,
         "r": 0,
         "t": 60
        },
        "template": {
         "data": {
          "bar": [
           {
            "error_x": {
             "color": "#2a3f5f"
            },
            "error_y": {
             "color": "#2a3f5f"
            },
            "marker": {
             "line": {
              "color": "#E5ECF6",
              "width": 0.5
             },
             "pattern": {
              "fillmode": "overlay",
              "size": 10,
              "solidity": 0.2
             }
            },
            "type": "bar"
           }
          ],
          "barpolar": [
           {
            "marker": {
             "line": {
              "color": "#E5ECF6",
              "width": 0.5
             },
             "pattern": {
              "fillmode": "overlay",
              "size": 10,
              "solidity": 0.2
             }
            },
            "type": "barpolar"
           }
          ],
          "carpet": [
           {
            "aaxis": {
             "endlinecolor": "#2a3f5f",
             "gridcolor": "white",
             "linecolor": "white",
             "minorgridcolor": "white",
             "startlinecolor": "#2a3f5f"
            },
            "baxis": {
             "endlinecolor": "#2a3f5f",
             "gridcolor": "white",
             "linecolor": "white",
             "minorgridcolor": "white",
             "startlinecolor": "#2a3f5f"
            },
            "type": "carpet"
           }
          ],
          "choropleth": [
           {
            "colorbar": {
             "outlinewidth": 0,
             "ticks": ""
            },
            "type": "choropleth"
           }
          ],
          "contour": [
           {
            "colorbar": {
             "outlinewidth": 0,
             "ticks": ""
            },
            "colorscale": [
             [
              0,
              "#0d0887"
             ],
             [
              0.1111111111111111,
              "#46039f"
             ],
             [
              0.2222222222222222,
              "#7201a8"
             ],
             [
              0.3333333333333333,
              "#9c179e"
             ],
             [
              0.4444444444444444,
              "#bd3786"
             ],
             [
              0.5555555555555556,
              "#d8576b"
             ],
             [
              0.6666666666666666,
              "#ed7953"
             ],
             [
              0.7777777777777778,
              "#fb9f3a"
             ],
             [
              0.8888888888888888,
              "#fdca26"
             ],
             [
              1,
              "#f0f921"
             ]
            ],
            "type": "contour"
           }
          ],
          "contourcarpet": [
           {
            "colorbar": {
             "outlinewidth": 0,
             "ticks": ""
            },
            "type": "contourcarpet"
           }
          ],
          "heatmap": [
           {
            "colorbar": {
             "outlinewidth": 0,
             "ticks": ""
            },
            "colorscale": [
             [
              0,
              "#0d0887"
             ],
             [
              0.1111111111111111,
              "#46039f"
             ],
             [
              0.2222222222222222,
              "#7201a8"
             ],
             [
              0.3333333333333333,
              "#9c179e"
             ],
             [
              0.4444444444444444,
              "#bd3786"
             ],
             [
              0.5555555555555556,
              "#d8576b"
             ],
             [
              0.6666666666666666,
              "#ed7953"
             ],
             [
              0.7777777777777778,
              "#fb9f3a"
             ],
             [
              0.8888888888888888,
              "#fdca26"
             ],
             [
              1,
              "#f0f921"
             ]
            ],
            "type": "heatmap"
           }
          ],
          "histogram": [
           {
            "marker": {
             "pattern": {
              "fillmode": "overlay",
              "size": 10,
              "solidity": 0.2
             }
            },
            "type": "histogram"
           }
          ],
          "histogram2d": [
           {
            "colorbar": {
             "outlinewidth": 0,
             "ticks": ""
            },
            "colorscale": [
             [
              0,
              "#0d0887"
             ],
             [
              0.1111111111111111,
              "#46039f"
             ],
             [
              0.2222222222222222,
              "#7201a8"
             ],
             [
              0.3333333333333333,
              "#9c179e"
             ],
             [
              0.4444444444444444,
              "#bd3786"
             ],
             [
              0.5555555555555556,
              "#d8576b"
             ],
             [
              0.6666666666666666,
              "#ed7953"
             ],
             [
              0.7777777777777778,
              "#fb9f3a"
             ],
             [
              0.8888888888888888,
              "#fdca26"
             ],
             [
              1,
              "#f0f921"
             ]
            ],
            "type": "histogram2d"
           }
          ],
          "histogram2dcontour": [
           {
            "colorbar": {
             "outlinewidth": 0,
             "ticks": ""
            },
            "colorscale": [
             [
              0,
              "#0d0887"
             ],
             [
              0.1111111111111111,
              "#46039f"
             ],
             [
              0.2222222222222222,
              "#7201a8"
             ],
             [
              0.3333333333333333,
              "#9c179e"
             ],
             [
              0.4444444444444444,
              "#bd3786"
             ],
             [
              0.5555555555555556,
              "#d8576b"
             ],
             [
              0.6666666666666666,
              "#ed7953"
             ],
             [
              0.7777777777777778,
              "#fb9f3a"
             ],
             [
              0.8888888888888888,
              "#fdca26"
             ],
             [
              1,
              "#f0f921"
             ]
            ],
            "type": "histogram2dcontour"
           }
          ],
          "mesh3d": [
           {
            "colorbar": {
             "outlinewidth": 0,
             "ticks": ""
            },
            "type": "mesh3d"
           }
          ],
          "parcoords": [
           {
            "line": {
             "colorbar": {
              "outlinewidth": 0,
              "ticks": ""
             }
            },
            "type": "parcoords"
           }
          ],
          "pie": [
           {
            "automargin": true,
            "type": "pie"
           }
          ],
          "scatter": [
           {
            "fillpattern": {
             "fillmode": "overlay",
             "size": 10,
             "solidity": 0.2
            },
            "type": "scatter"
           }
          ],
          "scatter3d": [
           {
            "line": {
             "colorbar": {
              "outlinewidth": 0,
              "ticks": ""
             }
            },
            "marker": {
             "colorbar": {
              "outlinewidth": 0,
              "ticks": ""
             }
            },
            "type": "scatter3d"
           }
          ],
          "scattercarpet": [
           {
            "marker": {
             "colorbar": {
              "outlinewidth": 0,
              "ticks": ""
             }
            },
            "type": "scattercarpet"
           }
          ],
          "scattergeo": [
           {
            "marker": {
             "colorbar": {
              "outlinewidth": 0,
              "ticks": ""
             }
            },
            "type": "scattergeo"
           }
          ],
          "scattergl": [
           {
            "marker": {
             "colorbar": {
              "outlinewidth": 0,
              "ticks": ""
             }
            },
            "type": "scattergl"
           }
          ],
          "scattermap": [
           {
            "marker": {
             "colorbar": {
              "outlinewidth": 0,
              "ticks": ""
             }
            },
            "type": "scattermap"
           }
          ],
          "scattermapbox": [
           {
            "marker": {
             "colorbar": {
              "outlinewidth": 0,
              "ticks": ""
             }
            },
            "type": "scattermapbox"
           }
          ],
          "scatterpolar": [
           {
            "marker": {
             "colorbar": {
              "outlinewidth": 0,
              "ticks": ""
             }
            },
            "type": "scatterpolar"
           }
          ],
          "scatterpolargl": [
           {
            "marker": {
             "colorbar": {
              "outlinewidth": 0,
              "ticks": ""
             }
            },
            "type": "scatterpolargl"
           }
          ],
          "scatterternary": [
           {
            "marker": {
             "colorbar": {
              "outlinewidth": 0,
              "ticks": ""
             }
            },
            "type": "scatterternary"
           }
          ],
          "surface": [
           {
            "colorbar": {
             "outlinewidth": 0,
             "ticks": ""
            },
            "colorscale": [
             [
              0,
              "#0d0887"
             ],
             [
              0.1111111111111111,
              "#46039f"
             ],
             [
              0.2222222222222222,
              "#7201a8"
             ],
             [
              0.3333333333333333,
              "#9c179e"
             ],
             [
              0.4444444444444444,
              "#bd3786"
             ],
             [
              0.5555555555555556,
              "#d8576b"
             ],
             [
              0.6666666666666666,
              "#ed7953"
             ],
             [
              0.7777777777777778,
              "#fb9f3a"
             ],
             [
              0.8888888888888888,
              "#fdca26"
             ],
             [
              1,
              "#f0f921"
             ]
            ],
            "type": "surface"
           }
          ],
          "table": [
           {
            "cells": {
             "fill": {
              "color": "#EBF0F8"
             },
             "line": {
              "color": "white"
             }
            },
            "header": {
             "fill": {
              "color": "#C8D4E3"
             },
             "line": {
              "color": "white"
             }
            },
            "type": "table"
           }
          ]
         },
         "layout": {
          "annotationdefaults": {
           "arrowcolor": "#2a3f5f",
           "arrowhead": 0,
           "arrowwidth": 1
          },
          "autotypenumbers": "strict",
          "coloraxis": {
           "colorbar": {
            "outlinewidth": 0,
            "ticks": ""
           }
          },
          "colorscale": {
           "diverging": [
            [
             0,
             "#8e0152"
            ],
            [
             0.1,
             "#c51b7d"
            ],
            [
             0.2,
             "#de77ae"
            ],
            [
             0.3,
             "#f1b6da"
            ],
            [
             0.4,
             "#fde0ef"
            ],
            [
             0.5,
             "#f7f7f7"
            ],
            [
             0.6,
             "#e6f5d0"
            ],
            [
             0.7,
             "#b8e186"
            ],
            [
             0.8,
             "#7fbc41"
            ],
            [
             0.9,
             "#4d9221"
            ],
            [
             1,
             "#276419"
            ]
           ],
           "sequential": [
            [
             0,
             "#0d0887"
            ],
            [
             0.1111111111111111,
             "#46039f"
            ],
            [
             0.2222222222222222,
             "#7201a8"
            ],
            [
             0.3333333333333333,
             "#9c179e"
            ],
            [
             0.4444444444444444,
             "#bd3786"
            ],
            [
             0.5555555555555556,
             "#d8576b"
            ],
            [
             0.6666666666666666,
             "#ed7953"
            ],
            [
             0.7777777777777778,
             "#fb9f3a"
            ],
            [
             0.8888888888888888,
             "#fdca26"
            ],
            [
             1,
             "#f0f921"
            ]
           ],
           "sequentialminus": [
            [
             0,
             "#0d0887"
            ],
            [
             0.1111111111111111,
             "#46039f"
            ],
            [
             0.2222222222222222,
             "#7201a8"
            ],
            [
             0.3333333333333333,
             "#9c179e"
            ],
            [
             0.4444444444444444,
             "#bd3786"
            ],
            [
             0.5555555555555556,
             "#d8576b"
            ],
            [
             0.6666666666666666,
             "#ed7953"
            ],
            [
             0.7777777777777778,
             "#fb9f3a"
            ],
            [
             0.8888888888888888,
             "#fdca26"
            ],
            [
             1,
             "#f0f921"
            ]
           ]
          },
          "colorway": [
           "#636efa",
           "#EF553B",
           "#00cc96",
           "#ab63fa",
           "#FFA15A",
           "#19d3f3",
           "#FF6692",
           "#B6E880",
           "#FF97FF",
           "#FECB52"
          ],
          "font": {
           "color": "#2a3f5f"
          },
          "geo": {
           "bgcolor": "white",
           "lakecolor": "white",
           "landcolor": "#E5ECF6",
           "showlakes": true,
           "showland": true,
           "subunitcolor": "white"
          },
          "hoverlabel": {
           "align": "left"
          },
          "hovermode": "closest",
          "mapbox": {
           "style": "light"
          },
          "paper_bgcolor": "white",
          "plot_bgcolor": "#E5ECF6",
          "polar": {
           "angularaxis": {
            "gridcolor": "white",
            "linecolor": "white",
            "ticks": ""
           },
           "bgcolor": "#E5ECF6",
           "radialaxis": {
            "gridcolor": "white",
            "linecolor": "white",
            "ticks": ""
           }
          },
          "scene": {
           "xaxis": {
            "backgroundcolor": "#E5ECF6",
            "gridcolor": "white",
            "gridwidth": 2,
            "linecolor": "white",
            "showbackground": true,
            "ticks": "",
            "zerolinecolor": "white"
           },
           "yaxis": {
            "backgroundcolor": "#E5ECF6",
            "gridcolor": "white",
            "gridwidth": 2,
            "linecolor": "white",
            "showbackground": true,
            "ticks": "",
            "zerolinecolor": "white"
           },
           "zaxis": {
            "backgroundcolor": "#E5ECF6",
            "gridcolor": "white",
            "gridwidth": 2,
            "linecolor": "white",
            "showbackground": true,
            "ticks": "",
            "zerolinecolor": "white"
           }
          },
          "shapedefaults": {
           "line": {
            "color": "#2a3f5f"
           }
          },
          "ternary": {
           "aaxis": {
            "gridcolor": "white",
            "linecolor": "white",
            "ticks": ""
           },
           "baxis": {
            "gridcolor": "white",
            "linecolor": "white",
            "ticks": ""
           },
           "bgcolor": "#E5ECF6",
           "caxis": {
            "gridcolor": "white",
            "linecolor": "white",
            "ticks": ""
           }
          },
          "title": {
           "x": 0.05
          },
          "xaxis": {
           "automargin": true,
           "gridcolor": "white",
           "linecolor": "white",
           "ticks": "",
           "title": {
            "standoff": 15
           },
           "zerolinecolor": "white",
           "zerolinewidth": 2
          },
          "yaxis": {
           "automargin": true,
           "gridcolor": "white",
           "linecolor": "white",
           "ticks": "",
           "title": {
            "standoff": 15
           },
           "zerolinecolor": "white",
           "zerolinewidth": 2
          }
         }
        },
        "title": {
         "font": {
          "size": 16
         },
         "text": "📍 Peta Fasilitas Publik Kabupaten Jember"
        }
       }
      }
     },
     "metadata": {},
     "output_type": "display_data"
    }
   ],
   "source": [
    "import plotly.express as px\n",
    "\n",
    "# Coba gunakan 'carto-positron' (tidak perlu token)\n",
    "# Jika gagal, otomatis fallback ke 'open-street-map'\n",
    "map_style = 'carto-positron'\n",
    "\n",
    "print('🎨 Membuat peta Plotly...')\n",
    "\n",
    "try:\n",
    "    fig = px.scatter_mapbox(\n",
    "        df,\n",
    "        lat='lat',                    # kolom latitude\n",
    "        lon='lon',                    # kolom longitude\n",
    "        color='kategori',             # warna berdasarkan kategori\n",
    "        size='rating',                # ukuran titik berdasarkan rating\n",
    "        hover_name='nama',            # judul tooltip\n",
    "        hover_data={\n",
    "            'lat': False, \n",
    "            'lon': False, \n",
    "            'kecamatan': True, \n",
    "            'rating': ':.1f',         # format 1 desimal\n",
    "            'kapasitas': ':,',        # format dengan koma pemisah ribuan\n",
    "            'deskripsi': True\n",
    "        },\n",
    "        color_discrete_sequence=px.colors.qualitative.Set2,  # palet warna\n",
    "        zoom=9,\n",
    "        mapbox_style=map_style,\n",
    "        title='📍 Peta Fasilitas Publik Kabupaten Jember'\n",
    "    )\n",
    "    \n",
    "    # Sesuaikan layout\n",
    "    fig.update_layout(\n",
    "        height=650,\n",
    "        margin={'r': 0, 't': 60, 'l': 0, 'b': 0},\n",
    "        font=dict(family='Arial', size=12),\n",
    "        title_font_size=16\n",
    "    )\n",
    "    \n",
    "    # Sesuaikan ukuran marker\n",
    "    fig.update_traces(marker=dict(sizemode='diameter', sizemin=8, sizeref=0.1))\n",
    "    \n",
    "    print('✅ Peta Plotly berhasil dibuat!')\n",
    "    print('🖱️ Hover di titik untuk melihat detail fasilitas')\n",
    "    fig.show()\n",
    "    \n",
    "except Exception as e:\n",
    "    print(f'⚠️ Gagal dengan style {map_style}. Error: {e}')\n",
    "    print('🔄 Mencoba dengan open-street-map...')\n",
    "    \n",
    "    fig = px.scatter_mapbox(\n",
    "        df, lat='lat', lon='lon', color='kategori', size='rating',\n",
    "        hover_name='nama', zoom=9, mapbox_style='open-street-map',\n",
    "        title='📍 Peta Fasilitas Publik Kabupaten Jember'\n",
    "    )\n",
    "    fig.update_layout(height=650)\n",
    "    print('✅ Peta dengan OSM tiles berhasil!')\n",
    "    fig.show()"
   ]
  },
  {
   "cell_type": "markdown",
   "id": "c7913363",
   "metadata": {},
   "source": [
    "> **💡 PENJELASAN PLOTLY:**\n",
    "> - `size='rating'` → ukuran bubble proporsional dengan rating fasilitas\n",
    "> - `hover_data` → kontrol kolom apa yang muncul di tooltip (format bisa dikustomisasi)\n",
    "> - `color_discrete_sequence` → palet warna kustom untuk kategori\n",
    "> - `sizeref=0.1` → skala ukuran marker agar tidak terlalu besar/kecil\n",
    "> - Coba **hover** di titik untuk lihat tooltip dengan informasi lengkap!\n",
    "\n",
    "---\n",
    "\n",
    "### Simpan Peta Plotly ke HTML"
   ]
  },
  {
   "cell_type": "code",
   "execution_count": 6,
   "id": "068eca43",
   "metadata": {},
   "outputs": [
    {
     "name": "stdout",
     "output_type": "stream",
     "text": [
      "💾 Peta Plotly disimpan ke: ../exports/map_fasilitas_plotly.html\n",
      "📊 File HTML dapat dibuka di browser untuk eksplorasi interaktif\n"
     ]
    }
   ],
   "source": [
    "# Simpan figure Plotly ke HTML\n",
    "plotly_output = ROOT / 'exports' / 'map_fasilitas_plotly.html'\n",
    "plotly_output.parent.mkdir(parents=True, exist_ok=True)\n",
    "fig.write_html(str(plotly_output))\n",
    "print(f'💾 Peta Plotly disimpan ke: {plotly_output}')\n",
    "print(f'📊 File HTML dapat dibuka di browser untuk eksplorasi interaktif')"
   ]
  },
  {
   "cell_type": "markdown",
   "id": "266b6497",
   "metadata": {},
   "source": [
    "---\n",
    "\n",
    "## 📊 PERBANDINGAN LENGKAP ALAT VISUALISASI\n",
    "\n",
    "### Tabel Perbandingan Detail\n",
    "\n",
    "| Alat | Tipe | Kelebihan | Kekurangan | Cocok untuk | Gratis? |\n",
    "|------|------|-----------|------------|-------------|--------|\n",
    "| **GeoPandas** | Kode (Python) | • Terintegrasi Pandas<br>• Analisis spasial<br>• Output PNG/SVG | • Tidak interaktif<br>• Styling terbatas | Analisis data, peta statis, paper | ✅ |\n",
    "| **Folium** | Kode (Python) | • Mudah dipelajari<br>• HTML interaktif<br>• Banyak plugin | • Lambat >1000 marker<br>• Styling terbatas | Peta web sederhana, dashboard | ✅ |\n",
    "| **Plotly** | Kode (Python) | • Interaksi smooth<br>• Styling fleksibel<br>• Performa baik | • Butuh token Mapbox (opsional)<br>• Kurva belajar | Dashboard, web app, analisis interaktif | ✅ (token gratis) |\n",
    "| **QGIS** | GUI (Desktop) | • Fitur GIS lengkap<br>• Plugin banyak<br>• Analisis kompleks | • Aplikasi berat<br>• Kurva belajar tinggi | Analisis spasial profesional | ✅ |\n",
    "| **Kepler.gl** | GUI (Web) | • Visualisasi 3D<br>• Big data<br>• Animasi temporal | • Perlu data terstruktur<br>• Kurang cocok analisis | Visualisasi big data, presentasi | ✅ |\n",
    "\n",
    "---\n",
    "\n",
    "### 🤔 Kapan Menggunakan Apa?\n",
    "\n",
    "**Gunakan GeoPandas jika:**\n",
    "- Anda perlu analisis data (join, buffer, intersection)\n",
    "- Output untuk paper/laporan (PDF/PNG)\n",
    "- Terintegrasi dengan workflow Pandas\n",
    "\n",
    "**Gunakan Folium jika:**\n",
    "- Perlu peta interaktif cepat (<500 marker)\n",
    "- Output untuk web/blog sederhana\n",
    "- Tidak perlu styling rumit\n",
    "\n",
    "**Gunakan Plotly jika:**\n",
    "- Membuat dashboard profesional\n",
    "- Perlu styling & interaksi canggih\n",
    "- Data > 1000 titik\n",
    "\n",
    "**Gunakan QGIS jika:**\n",
    "- Analisis spasial kompleks (buffer, overlay, routing)\n",
    "- Perlu editing geometri manual\n",
    "- Membuat peta kartografi profesional\n",
    "\n",
    "**Gunakan Kepler.gl jika:**\n",
    "- Visualisasi jutaan titik\n",
    "- Animasi temporal (time-series)\n",
    "- Presentasi WOW-factor tinggi\n",
    "\n",
    "---"
   ]
  },
  {
   "cell_type": "markdown",
   "id": "d23d4e41",
   "metadata": {},
   "source": [
    "## ✍️ LATIHAN MANDIRI\n",
    "\n",
    "### **Latihan 1: Filter Fasilitas Berdasarkan Rating** (mudah)\n",
    "\n",
    "Buat peta Folium yang hanya menampilkan fasilitas dengan rating ≥ 4.0\n",
    "\n",
    "**Hint:** Gunakan `df[df['rating'] >= 4.0]` untuk filter data\n",
    "\n",
    "---\n",
    "\n",
    "### **Latihan 2: Peta Kategori Spesifik** (menengah)\n",
    "\n",
    "Buat peta Plotly yang hanya menampilkan fasilitas kategori **wisata** dan **pendidikan**\n",
    "\n",
    "**Hint:** Gunakan `df[df['kategori'].isin(['wisata', 'pendidikan'])]`\n",
    "\n",
    "---\n",
    "\n",
    "### **Latihan 3: Marker dengan Icon Kustom** (advanced)\n",
    "\n",
    "Modifikasi peta Folium untuk menggunakan `folium.Marker` dengan icon Font Awesome yang berbeda untuk setiap kategori\n",
    "\n",
    "**Hint:** Lihat dokumentasi Folium untuk `Icon` parameter\n",
    "\n",
    "---\n",
    "\n",
    "> **📝 Silakan coba sebelum lihat jawaban!**"
   ]
  },
  {
   "cell_type": "markdown",
   "id": "98b79c4a",
   "metadata": {},
   "source": [
    "## 📋 Jawaban Latihan\n",
    "\n",
    "### Jawaban Latihan 1: Filter Rating Tinggi"
   ]
  },
  {
   "cell_type": "code",
   "execution_count": 7,
   "id": "68418432",
   "metadata": {},
   "outputs": [
    {
     "name": "stdout",
     "output_type": "stream",
     "text": [
      "✅ Menampilkan 16 fasilitas dengan rating ≥ 4.0\n"
     ]
    },
    {
     "data": {
      "text/html": [
       "<div style=\"width:100%;\"><div style=\"position:relative;width:100%;height:0;padding-bottom:60%;\"><span style=\"color:#565656\">Make this Notebook Trusted to load map: File -> Trust Notebook</span><iframe srcdoc=\"&lt;!DOCTYPE html&gt;\n",
       "&lt;html&gt;\n",
       "&lt;head&gt;\n",
       "    \n",
       "    &lt;meta http-equiv=&quot;content-type&quot; content=&quot;text/html; charset=UTF-8&quot; /&gt;\n",
       "    &lt;script src=&quot;https://cdn.jsdelivr.net/npm/leaflet@1.9.3/dist/leaflet.js&quot;&gt;&lt;/script&gt;\n",
       "    &lt;script src=&quot;https://code.jquery.com/jquery-3.7.1.min.js&quot;&gt;&lt;/script&gt;\n",
       "    &lt;script src=&quot;https://cdn.jsdelivr.net/npm/bootstrap@5.2.2/dist/js/bootstrap.bundle.min.js&quot;&gt;&lt;/script&gt;\n",
       "    &lt;script src=&quot;https://cdnjs.cloudflare.com/ajax/libs/Leaflet.awesome-markers/2.0.2/leaflet.awesome-markers.js&quot;&gt;&lt;/script&gt;\n",
       "    &lt;link rel=&quot;stylesheet&quot; href=&quot;https://cdn.jsdelivr.net/npm/leaflet@1.9.3/dist/leaflet.css&quot;/&gt;\n",
       "    &lt;link rel=&quot;stylesheet&quot; href=&quot;https://cdn.jsdelivr.net/npm/bootstrap@5.2.2/dist/css/bootstrap.min.css&quot;/&gt;\n",
       "    &lt;link rel=&quot;stylesheet&quot; href=&quot;https://netdna.bootstrapcdn.com/bootstrap/3.0.0/css/bootstrap-glyphicons.css&quot;/&gt;\n",
       "    &lt;link rel=&quot;stylesheet&quot; href=&quot;https://cdn.jsdelivr.net/npm/@fortawesome/fontawesome-free@6.2.0/css/all.min.css&quot;/&gt;\n",
       "    &lt;link rel=&quot;stylesheet&quot; href=&quot;https://cdnjs.cloudflare.com/ajax/libs/Leaflet.awesome-markers/2.0.2/leaflet.awesome-markers.css&quot;/&gt;\n",
       "    &lt;link rel=&quot;stylesheet&quot; href=&quot;https://cdn.jsdelivr.net/gh/python-visualization/folium/folium/templates/leaflet.awesome.rotate.min.css&quot;/&gt;\n",
       "    \n",
       "            &lt;meta name=&quot;viewport&quot; content=&quot;width=device-width,\n",
       "                initial-scale=1.0, maximum-scale=1.0, user-scalable=no&quot; /&gt;\n",
       "            &lt;style&gt;\n",
       "                #map_12b16471c542d586a2f5b27bf8f0e3cc {\n",
       "                    position: relative;\n",
       "                    width: 100.0%;\n",
       "                    height: 100.0%;\n",
       "                    left: 0.0%;\n",
       "                    top: 0.0%;\n",
       "                }\n",
       "                .leaflet-container { font-size: 1rem; }\n",
       "            &lt;/style&gt;\n",
       "\n",
       "            &lt;style&gt;html, body {\n",
       "                width: 100%;\n",
       "                height: 100%;\n",
       "                margin: 0;\n",
       "                padding: 0;\n",
       "            }\n",
       "            &lt;/style&gt;\n",
       "\n",
       "            &lt;style&gt;#map {\n",
       "                position:absolute;\n",
       "                top:0;\n",
       "                bottom:0;\n",
       "                right:0;\n",
       "                left:0;\n",
       "                }\n",
       "            &lt;/style&gt;\n",
       "\n",
       "            &lt;script&gt;\n",
       "                L_NO_TOUCH = false;\n",
       "                L_DISABLE_3D = false;\n",
       "            &lt;/script&gt;\n",
       "\n",
       "        \n",
       "&lt;/head&gt;\n",
       "&lt;body&gt;\n",
       "    \n",
       "    \n",
       "            &lt;div class=&quot;folium-map&quot; id=&quot;map_12b16471c542d586a2f5b27bf8f0e3cc&quot; &gt;&lt;/div&gt;\n",
       "        \n",
       "&lt;/body&gt;\n",
       "&lt;script&gt;\n",
       "    \n",
       "    \n",
       "            var map_12b16471c542d586a2f5b27bf8f0e3cc = L.map(\n",
       "                &quot;map_12b16471c542d586a2f5b27bf8f0e3cc&quot;,\n",
       "                {\n",
       "                    center: [-8.19028, 113.65706],\n",
       "                    crs: L.CRS.EPSG3857,\n",
       "                    ...{\n",
       "  &quot;zoom&quot;: 10,\n",
       "  &quot;zoomControl&quot;: true,\n",
       "  &quot;preferCanvas&quot;: false,\n",
       "}\n",
       "\n",
       "                }\n",
       "            );\n",
       "\n",
       "            \n",
       "\n",
       "        \n",
       "    \n",
       "            var tile_layer_b6e6af472d41b4ed42cdcc22817d2d4f = L.tileLayer(\n",
       "                &quot;https://{s}.basemaps.cartocdn.com/light_all/{z}/{x}/{y}{r}.png&quot;,\n",
       "                {\n",
       "  &quot;minZoom&quot;: 0,\n",
       "  &quot;maxZoom&quot;: 20,\n",
       "  &quot;maxNativeZoom&quot;: 20,\n",
       "  &quot;noWrap&quot;: false,\n",
       "  &quot;attribution&quot;: &quot;\\u0026copy; \\u003ca href=\\&quot;https://www.openstreetmap.org/copyright\\&quot;\\u003eOpenStreetMap\\u003c/a\\u003e contributors \\u0026copy; \\u003ca href=\\&quot;https://carto.com/attributions\\&quot;\\u003eCARTO\\u003c/a\\u003e&quot;,\n",
       "  &quot;subdomains&quot;: &quot;abcd&quot;,\n",
       "  &quot;detectRetina&quot;: false,\n",
       "  &quot;tms&quot;: false,\n",
       "  &quot;opacity&quot;: 1,\n",
       "}\n",
       "\n",
       "            );\n",
       "        \n",
       "    \n",
       "            tile_layer_b6e6af472d41b4ed42cdcc22817d2d4f.addTo(map_12b16471c542d586a2f5b27bf8f0e3cc);\n",
       "        \n",
       "    \n",
       "            var circle_marker_71b0c4c9a5e000b6144b909b7122cc6d = L.circleMarker(\n",
       "                [-8.165, 113.6995],\n",
       "                {&quot;bubblingMouseEvents&quot;: true, &quot;color&quot;: &quot;#3498db&quot;, &quot;dashArray&quot;: null, &quot;dashOffset&quot;: null, &quot;fill&quot;: true, &quot;fillColor&quot;: &quot;#3498db&quot;, &quot;fillOpacity&quot;: 0.8, &quot;fillRule&quot;: &quot;evenodd&quot;, &quot;lineCap&quot;: &quot;round&quot;, &quot;lineJoin&quot;: &quot;round&quot;, &quot;opacity&quot;: 1.0, &quot;radius&quot;: 10, &quot;stroke&quot;: true, &quot;weight&quot;: 3}\n",
       "            ).addTo(map_12b16471c542d586a2f5b27bf8f0e3cc);\n",
       "        \n",
       "    \n",
       "        var popup_85b4a8f225afb0d9c37d1d922e9e9a04 = L.popup({\n",
       "  &quot;maxWidth&quot;: &quot;100%&quot;,\n",
       "});\n",
       "\n",
       "        \n",
       "            \n",
       "                var html_2dcf2d2e64d20503b5db4f1b420a6645 = $(`&lt;div id=&quot;html_2dcf2d2e64d20503b5db4f1b420a6645&quot; style=&quot;width: 100.0%; height: 100.0%;&quot;&gt;     &lt;div style=&#x27;font-family: Arial;&#x27;&gt;         &lt;h4 style=&#x27;color: #3498db;&#x27;&gt;SMAN 1 Jember&lt;/h4&gt;         &lt;b&gt;⭐ Rating:&lt;/b&gt; 4.5/5.0&lt;br&gt;         &lt;b&gt;📂 Kategori:&lt;/b&gt; pendidikan&lt;br&gt;         &lt;i&gt;✨ Fasilitas rating tinggi&lt;/i&gt;     &lt;/div&gt;     &lt;/div&gt;`)[0];\n",
       "                popup_85b4a8f225afb0d9c37d1d922e9e9a04.setContent(html_2dcf2d2e64d20503b5db4f1b420a6645);\n",
       "            \n",
       "        \n",
       "\n",
       "        circle_marker_71b0c4c9a5e000b6144b909b7122cc6d.bindPopup(popup_85b4a8f225afb0d9c37d1d922e9e9a04)\n",
       "        ;\n",
       "\n",
       "        \n",
       "    \n",
       "    \n",
       "            var circle_marker_df876c99774a9623bfc972493e7c2fdb = L.circleMarker(\n",
       "                [-8.1734, 113.6801],\n",
       "                {&quot;bubblingMouseEvents&quot;: true, &quot;color&quot;: &quot;#e74c3c&quot;, &quot;dashArray&quot;: null, &quot;dashOffset&quot;: null, &quot;fill&quot;: true, &quot;fillColor&quot;: &quot;#e74c3c&quot;, &quot;fillOpacity&quot;: 0.8, &quot;fillRule&quot;: &quot;evenodd&quot;, &quot;lineCap&quot;: &quot;round&quot;, &quot;lineJoin&quot;: &quot;round&quot;, &quot;opacity&quot;: 1.0, &quot;radius&quot;: 10, &quot;stroke&quot;: true, &quot;weight&quot;: 3}\n",
       "            ).addTo(map_12b16471c542d586a2f5b27bf8f0e3cc);\n",
       "        \n",
       "    \n",
       "        var popup_28dea897bd5a3f6acf3434a6d2d42122 = L.popup({\n",
       "  &quot;maxWidth&quot;: &quot;100%&quot;,\n",
       "});\n",
       "\n",
       "        \n",
       "            \n",
       "                var html_c227e6eddc1e0802ff89455fc6b6738f = $(`&lt;div id=&quot;html_c227e6eddc1e0802ff89455fc6b6738f&quot; style=&quot;width: 100.0%; height: 100.0%;&quot;&gt;     &lt;div style=&#x27;font-family: Arial;&#x27;&gt;         &lt;h4 style=&#x27;color: #e74c3c;&#x27;&gt;RSUD dr. Soebandi&lt;/h4&gt;         &lt;b&gt;⭐ Rating:&lt;/b&gt; 4.2/5.0&lt;br&gt;         &lt;b&gt;📂 Kategori:&lt;/b&gt; kesehatan&lt;br&gt;         &lt;i&gt;✨ Fasilitas rating tinggi&lt;/i&gt;     &lt;/div&gt;     &lt;/div&gt;`)[0];\n",
       "                popup_28dea897bd5a3f6acf3434a6d2d42122.setContent(html_c227e6eddc1e0802ff89455fc6b6738f);\n",
       "            \n",
       "        \n",
       "\n",
       "        circle_marker_df876c99774a9623bfc972493e7c2fdb.bindPopup(popup_28dea897bd5a3f6acf3434a6d2d42122)\n",
       "        ;\n",
       "\n",
       "        \n",
       "    \n",
       "    \n",
       "            var circle_marker_9f4260d54f36c9b983af8f7961e12cb9 = L.circleMarker(\n",
       "                [-8.1652, 113.722],\n",
       "                {&quot;bubblingMouseEvents&quot;: true, &quot;color&quot;: &quot;#3498db&quot;, &quot;dashArray&quot;: null, &quot;dashOffset&quot;: null, &quot;fill&quot;: true, &quot;fillColor&quot;: &quot;#3498db&quot;, &quot;fillOpacity&quot;: 0.8, &quot;fillRule&quot;: &quot;evenodd&quot;, &quot;lineCap&quot;: &quot;round&quot;, &quot;lineJoin&quot;: &quot;round&quot;, &quot;opacity&quot;: 1.0, &quot;radius&quot;: 10, &quot;stroke&quot;: true, &quot;weight&quot;: 3}\n",
       "            ).addTo(map_12b16471c542d586a2f5b27bf8f0e3cc);\n",
       "        \n",
       "    \n",
       "        var popup_d158612255213e7323467663478e441f = L.popup({\n",
       "  &quot;maxWidth&quot;: &quot;100%&quot;,\n",
       "});\n",
       "\n",
       "        \n",
       "            \n",
       "                var html_d364cca4980a8259c4db09b1081b4b35 = $(`&lt;div id=&quot;html_d364cca4980a8259c4db09b1081b4b35&quot; style=&quot;width: 100.0%; height: 100.0%;&quot;&gt;     &lt;div style=&#x27;font-family: Arial;&#x27;&gt;         &lt;h4 style=&#x27;color: #3498db;&#x27;&gt;Universitas Jember&lt;/h4&gt;         &lt;b&gt;⭐ Rating:&lt;/b&gt; 4.6/5.0&lt;br&gt;         &lt;b&gt;📂 Kategori:&lt;/b&gt; pendidikan&lt;br&gt;         &lt;i&gt;✨ Fasilitas rating tinggi&lt;/i&gt;     &lt;/div&gt;     &lt;/div&gt;`)[0];\n",
       "                popup_d158612255213e7323467663478e441f.setContent(html_d364cca4980a8259c4db09b1081b4b35);\n",
       "            \n",
       "        \n",
       "\n",
       "        circle_marker_9f4260d54f36c9b983af8f7961e12cb9.bindPopup(popup_d158612255213e7323467663478e441f)\n",
       "        ;\n",
       "\n",
       "        \n",
       "    \n",
       "    \n",
       "            var circle_marker_9e220fefe18bbf9ac9df5c58ebb2d740 = L.circleMarker(\n",
       "                [-8.1689, 113.6945],\n",
       "                {&quot;bubblingMouseEvents&quot;: true, &quot;color&quot;: &quot;#f39c12&quot;, &quot;dashArray&quot;: null, &quot;dashOffset&quot;: null, &quot;fill&quot;: true, &quot;fillColor&quot;: &quot;#f39c12&quot;, &quot;fillOpacity&quot;: 0.8, &quot;fillRule&quot;: &quot;evenodd&quot;, &quot;lineCap&quot;: &quot;round&quot;, &quot;lineJoin&quot;: &quot;round&quot;, &quot;opacity&quot;: 1.0, &quot;radius&quot;: 10, &quot;stroke&quot;: true, &quot;weight&quot;: 3}\n",
       "            ).addTo(map_12b16471c542d586a2f5b27bf8f0e3cc);\n",
       "        \n",
       "    \n",
       "        var popup_239b531ebe9caec66bb20f07db8f4287 = L.popup({\n",
       "  &quot;maxWidth&quot;: &quot;100%&quot;,\n",
       "});\n",
       "\n",
       "        \n",
       "            \n",
       "                var html_c2c55657c9efdc61e5afa899901d7c85 = $(`&lt;div id=&quot;html_c2c55657c9efdc61e5afa899901d7c85&quot; style=&quot;width: 100.0%; height: 100.0%;&quot;&gt;     &lt;div style=&#x27;font-family: Arial;&#x27;&gt;         &lt;h4 style=&#x27;color: #f39c12;&#x27;&gt;Pasar Tanjung&lt;/h4&gt;         &lt;b&gt;⭐ Rating:&lt;/b&gt; 4.0/5.0&lt;br&gt;         &lt;b&gt;📂 Kategori:&lt;/b&gt; ekonomi&lt;br&gt;         &lt;i&gt;✨ Fasilitas rating tinggi&lt;/i&gt;     &lt;/div&gt;     &lt;/div&gt;`)[0];\n",
       "                popup_239b531ebe9caec66bb20f07db8f4287.setContent(html_c2c55657c9efdc61e5afa899901d7c85);\n",
       "            \n",
       "        \n",
       "\n",
       "        circle_marker_9e220fefe18bbf9ac9df5c58ebb2d740.bindPopup(popup_239b531ebe9caec66bb20f07db8f4287)\n",
       "        ;\n",
       "\n",
       "        \n",
       "    \n",
       "    \n",
       "            var circle_marker_53ff234227808dec4b671ff56500cd4e = L.circleMarker(\n",
       "                [-8.2789, 113.8689],\n",
       "                {&quot;bubblingMouseEvents&quot;: true, &quot;color&quot;: &quot;#2ecc71&quot;, &quot;dashArray&quot;: null, &quot;dashOffset&quot;: null, &quot;fill&quot;: true, &quot;fillColor&quot;: &quot;#2ecc71&quot;, &quot;fillOpacity&quot;: 0.8, &quot;fillRule&quot;: &quot;evenodd&quot;, &quot;lineCap&quot;: &quot;round&quot;, &quot;lineJoin&quot;: &quot;round&quot;, &quot;opacity&quot;: 1.0, &quot;radius&quot;: 10, &quot;stroke&quot;: true, &quot;weight&quot;: 3}\n",
       "            ).addTo(map_12b16471c542d586a2f5b27bf8f0e3cc);\n",
       "        \n",
       "    \n",
       "        var popup_0692a64eea19d6bbac1732e50a087ac2 = L.popup({\n",
       "  &quot;maxWidth&quot;: &quot;100%&quot;,\n",
       "});\n",
       "\n",
       "        \n",
       "            \n",
       "                var html_65cc1b7940028f931d17d98d42bce385 = $(`&lt;div id=&quot;html_65cc1b7940028f931d17d98d42bce385&quot; style=&quot;width: 100.0%; height: 100.0%;&quot;&gt;     &lt;div style=&#x27;font-family: Arial;&#x27;&gt;         &lt;h4 style=&#x27;color: #2ecc71;&#x27;&gt;Papuma Beach&lt;/h4&gt;         &lt;b&gt;⭐ Rating:&lt;/b&gt; 4.7/5.0&lt;br&gt;         &lt;b&gt;📂 Kategori:&lt;/b&gt; wisata&lt;br&gt;         &lt;i&gt;✨ Fasilitas rating tinggi&lt;/i&gt;     &lt;/div&gt;     &lt;/div&gt;`)[0];\n",
       "                popup_0692a64eea19d6bbac1732e50a087ac2.setContent(html_65cc1b7940028f931d17d98d42bce385);\n",
       "            \n",
       "        \n",
       "\n",
       "        circle_marker_53ff234227808dec4b671ff56500cd4e.bindPopup(popup_0692a64eea19d6bbac1732e50a087ac2)\n",
       "        ;\n",
       "\n",
       "        \n",
       "    \n",
       "    \n",
       "            var circle_marker_e3fc494ae6d1962386b578afbf70263e = L.circleMarker(\n",
       "                [-8.2145, 113.3789],\n",
       "                {&quot;bubblingMouseEvents&quot;: true, &quot;color&quot;: &quot;#2ecc71&quot;, &quot;dashArray&quot;: null, &quot;dashOffset&quot;: null, &quot;fill&quot;: true, &quot;fillColor&quot;: &quot;#2ecc71&quot;, &quot;fillOpacity&quot;: 0.8, &quot;fillRule&quot;: &quot;evenodd&quot;, &quot;lineCap&quot;: &quot;round&quot;, &quot;lineJoin&quot;: &quot;round&quot;, &quot;opacity&quot;: 1.0, &quot;radius&quot;: 10, &quot;stroke&quot;: true, &quot;weight&quot;: 3}\n",
       "            ).addTo(map_12b16471c542d586a2f5b27bf8f0e3cc);\n",
       "        \n",
       "    \n",
       "        var popup_e86eb674ecf2897d7d89373a1b349681 = L.popup({\n",
       "  &quot;maxWidth&quot;: &quot;100%&quot;,\n",
       "});\n",
       "\n",
       "        \n",
       "            \n",
       "                var html_f3dd72eeaef6e601f3e5a349f0ff8477 = $(`&lt;div id=&quot;html_f3dd72eeaef6e601f3e5a349f0ff8477&quot; style=&quot;width: 100.0%; height: 100.0%;&quot;&gt;     &lt;div style=&#x27;font-family: Arial;&#x27;&gt;         &lt;h4 style=&#x27;color: #2ecc71;&#x27;&gt;Air Terjun Tancak&lt;/h4&gt;         &lt;b&gt;⭐ Rating:&lt;/b&gt; 4.4/5.0&lt;br&gt;         &lt;b&gt;📂 Kategori:&lt;/b&gt; wisata&lt;br&gt;         &lt;i&gt;✨ Fasilitas rating tinggi&lt;/i&gt;     &lt;/div&gt;     &lt;/div&gt;`)[0];\n",
       "                popup_e86eb674ecf2897d7d89373a1b349681.setContent(html_f3dd72eeaef6e601f3e5a349f0ff8477);\n",
       "            \n",
       "        \n",
       "\n",
       "        circle_marker_e3fc494ae6d1962386b578afbf70263e.bindPopup(popup_e86eb674ecf2897d7d89373a1b349681)\n",
       "        ;\n",
       "\n",
       "        \n",
       "    \n",
       "    \n",
       "            var circle_marker_54eb72dc8cf91dfaec99075eea4633c9 = L.circleMarker(\n",
       "                [-8.1705, 113.7034],\n",
       "                {&quot;bubblingMouseEvents&quot;: true, &quot;color&quot;: &quot;#3498db&quot;, &quot;dashArray&quot;: null, &quot;dashOffset&quot;: null, &quot;fill&quot;: true, &quot;fillColor&quot;: &quot;#3498db&quot;, &quot;fillOpacity&quot;: 0.8, &quot;fillRule&quot;: &quot;evenodd&quot;, &quot;lineCap&quot;: &quot;round&quot;, &quot;lineJoin&quot;: &quot;round&quot;, &quot;opacity&quot;: 1.0, &quot;radius&quot;: 10, &quot;stroke&quot;: true, &quot;weight&quot;: 3}\n",
       "            ).addTo(map_12b16471c542d586a2f5b27bf8f0e3cc);\n",
       "        \n",
       "    \n",
       "        var popup_76b75ddaa3493a8524e2f4f376e5f4c0 = L.popup({\n",
       "  &quot;maxWidth&quot;: &quot;100%&quot;,\n",
       "});\n",
       "\n",
       "        \n",
       "            \n",
       "                var html_59bea47f0f9172d9e452972d60077942 = $(`&lt;div id=&quot;html_59bea47f0f9172d9e452972d60077942&quot; style=&quot;width: 100.0%; height: 100.0%;&quot;&gt;     &lt;div style=&#x27;font-family: Arial;&#x27;&gt;         &lt;h4 style=&#x27;color: #3498db;&#x27;&gt;SMP Negeri 1 Jember&lt;/h4&gt;         &lt;b&gt;⭐ Rating:&lt;/b&gt; 4.3/5.0&lt;br&gt;         &lt;b&gt;📂 Kategori:&lt;/b&gt; pendidikan&lt;br&gt;         &lt;i&gt;✨ Fasilitas rating tinggi&lt;/i&gt;     &lt;/div&gt;     &lt;/div&gt;`)[0];\n",
       "                popup_76b75ddaa3493a8524e2f4f376e5f4c0.setContent(html_59bea47f0f9172d9e452972d60077942);\n",
       "            \n",
       "        \n",
       "\n",
       "        circle_marker_54eb72dc8cf91dfaec99075eea4633c9.bindPopup(popup_76b75ddaa3493a8524e2f4f376e5f4c0)\n",
       "        ;\n",
       "\n",
       "        \n",
       "    \n",
       "    \n",
       "            var circle_marker_2307ba834a5340f3363974dc9c261690 = L.circleMarker(\n",
       "                [-8.1672, 113.6978],\n",
       "                {&quot;bubblingMouseEvents&quot;: true, &quot;color&quot;: &quot;#9b59b6&quot;, &quot;dashArray&quot;: null, &quot;dashOffset&quot;: null, &quot;fill&quot;: true, &quot;fillColor&quot;: &quot;#9b59b6&quot;, &quot;fillOpacity&quot;: 0.8, &quot;fillRule&quot;: &quot;evenodd&quot;, &quot;lineCap&quot;: &quot;round&quot;, &quot;lineJoin&quot;: &quot;round&quot;, &quot;opacity&quot;: 1.0, &quot;radius&quot;: 10, &quot;stroke&quot;: true, &quot;weight&quot;: 3}\n",
       "            ).addTo(map_12b16471c542d586a2f5b27bf8f0e3cc);\n",
       "        \n",
       "    \n",
       "        var popup_821c2a38ba6597ab7bf48d81199c4b93 = L.popup({\n",
       "  &quot;maxWidth&quot;: &quot;100%&quot;,\n",
       "});\n",
       "\n",
       "        \n",
       "            \n",
       "                var html_e1c815764d84ff8831140b750f552564 = $(`&lt;div id=&quot;html_e1c815764d84ff8831140b750f552564&quot; style=&quot;width: 100.0%; height: 100.0%;&quot;&gt;     &lt;div style=&#x27;font-family: Arial;&#x27;&gt;         &lt;h4 style=&#x27;color: #9b59b6;&#x27;&gt;Alun-alun Jember&lt;/h4&gt;         &lt;b&gt;⭐ Rating:&lt;/b&gt; 4.1/5.0&lt;br&gt;         &lt;b&gt;📂 Kategori:&lt;/b&gt; ruang_publik&lt;br&gt;         &lt;i&gt;✨ Fasilitas rating tinggi&lt;/i&gt;     &lt;/div&gt;     &lt;/div&gt;`)[0];\n",
       "                popup_821c2a38ba6597ab7bf48d81199c4b93.setContent(html_e1c815764d84ff8831140b750f552564);\n",
       "            \n",
       "        \n",
       "\n",
       "        circle_marker_2307ba834a5340f3363974dc9c261690.bindPopup(popup_821c2a38ba6597ab7bf48d81199c4b93)\n",
       "        ;\n",
       "\n",
       "        \n",
       "    \n",
       "    \n",
       "            var circle_marker_c921c3dfec9dc895c82a5ce3772f05c7 = L.circleMarker(\n",
       "                [-8.1445, 113.6208],\n",
       "                {&quot;bubblingMouseEvents&quot;: true, &quot;color&quot;: &quot;#3498db&quot;, &quot;dashArray&quot;: null, &quot;dashOffset&quot;: null, &quot;fill&quot;: true, &quot;fillColor&quot;: &quot;#3498db&quot;, &quot;fillOpacity&quot;: 0.8, &quot;fillRule&quot;: &quot;evenodd&quot;, &quot;lineCap&quot;: &quot;round&quot;, &quot;lineJoin&quot;: &quot;round&quot;, &quot;opacity&quot;: 1.0, &quot;radius&quot;: 10, &quot;stroke&quot;: true, &quot;weight&quot;: 3}\n",
       "            ).addTo(map_12b16471c542d586a2f5b27bf8f0e3cc);\n",
       "        \n",
       "    \n",
       "        var popup_291ffa7fea05515711033e5e1217738b = L.popup({\n",
       "  &quot;maxWidth&quot;: &quot;100%&quot;,\n",
       "});\n",
       "\n",
       "        \n",
       "            \n",
       "                var html_a64ecb19657ffb74fc87211c12474e11 = $(`&lt;div id=&quot;html_a64ecb19657ffb74fc87211c12474e11&quot; style=&quot;width: 100.0%; height: 100.0%;&quot;&gt;     &lt;div style=&#x27;font-family: Arial;&#x27;&gt;         &lt;h4 style=&#x27;color: #3498db;&#x27;&gt;Kampung Inggris&lt;/h4&gt;         &lt;b&gt;⭐ Rating:&lt;/b&gt; 4.5/5.0&lt;br&gt;         &lt;b&gt;📂 Kategori:&lt;/b&gt; pendidikan&lt;br&gt;         &lt;i&gt;✨ Fasilitas rating tinggi&lt;/i&gt;     &lt;/div&gt;     &lt;/div&gt;`)[0];\n",
       "                popup_291ffa7fea05515711033e5e1217738b.setContent(html_a64ecb19657ffb74fc87211c12474e11);\n",
       "            \n",
       "        \n",
       "\n",
       "        circle_marker_c921c3dfec9dc895c82a5ce3772f05c7.bindPopup(popup_291ffa7fea05515711033e5e1217738b)\n",
       "        ;\n",
       "\n",
       "        \n",
       "    \n",
       "    \n",
       "            var circle_marker_8c668192fc906cf11a4fb6bf2b2a35e6 = L.circleMarker(\n",
       "                [-8.3856, 113.6234],\n",
       "                {&quot;bubblingMouseEvents&quot;: true, &quot;color&quot;: &quot;#2ecc71&quot;, &quot;dashArray&quot;: null, &quot;dashOffset&quot;: null, &quot;fill&quot;: true, &quot;fillColor&quot;: &quot;#2ecc71&quot;, &quot;fillOpacity&quot;: 0.8, &quot;fillRule&quot;: &quot;evenodd&quot;, &quot;lineCap&quot;: &quot;round&quot;, &quot;lineJoin&quot;: &quot;round&quot;, &quot;opacity&quot;: 1.0, &quot;radius&quot;: 10, &quot;stroke&quot;: true, &quot;weight&quot;: 3}\n",
       "            ).addTo(map_12b16471c542d586a2f5b27bf8f0e3cc);\n",
       "        \n",
       "    \n",
       "        var popup_6cd1430ed5f23a95a95809b522cdaddb = L.popup({\n",
       "  &quot;maxWidth&quot;: &quot;100%&quot;,\n",
       "});\n",
       "\n",
       "        \n",
       "            \n",
       "                var html_0563e8fbaec99e91b63c8da8f9810781 = $(`&lt;div id=&quot;html_0563e8fbaec99e91b63c8da8f9810781&quot; style=&quot;width: 100.0%; height: 100.0%;&quot;&gt;     &lt;div style=&#x27;font-family: Arial;&#x27;&gt;         &lt;h4 style=&#x27;color: #2ecc71;&#x27;&gt;Pantai Payangan&lt;/h4&gt;         &lt;b&gt;⭐ Rating:&lt;/b&gt; 4.3/5.0&lt;br&gt;         &lt;b&gt;📂 Kategori:&lt;/b&gt; wisata&lt;br&gt;         &lt;i&gt;✨ Fasilitas rating tinggi&lt;/i&gt;     &lt;/div&gt;     &lt;/div&gt;`)[0];\n",
       "                popup_6cd1430ed5f23a95a95809b522cdaddb.setContent(html_0563e8fbaec99e91b63c8da8f9810781);\n",
       "            \n",
       "        \n",
       "\n",
       "        circle_marker_8c668192fc906cf11a4fb6bf2b2a35e6.bindPopup(popup_6cd1430ed5f23a95a95809b522cdaddb)\n",
       "        ;\n",
       "\n",
       "        \n",
       "    \n",
       "    \n",
       "            var circle_marker_5c987f7efa63146c04b471fc22113ef5 = L.circleMarker(\n",
       "                [-8.1589, 113.7156],\n",
       "                {&quot;bubblingMouseEvents&quot;: true, &quot;color&quot;: &quot;#e74c3c&quot;, &quot;dashArray&quot;: null, &quot;dashOffset&quot;: null, &quot;fill&quot;: true, &quot;fillColor&quot;: &quot;#e74c3c&quot;, &quot;fillOpacity&quot;: 0.8, &quot;fillRule&quot;: &quot;evenodd&quot;, &quot;lineCap&quot;: &quot;round&quot;, &quot;lineJoin&quot;: &quot;round&quot;, &quot;opacity&quot;: 1.0, &quot;radius&quot;: 10, &quot;stroke&quot;: true, &quot;weight&quot;: 3}\n",
       "            ).addTo(map_12b16471c542d586a2f5b27bf8f0e3cc);\n",
       "        \n",
       "    \n",
       "        var popup_2b6725e17326f6d145152e43df81c876 = L.popup({\n",
       "  &quot;maxWidth&quot;: &quot;100%&quot;,\n",
       "});\n",
       "\n",
       "        \n",
       "            \n",
       "                var html_8fab0651c0d08645191ba81e1d303766 = $(`&lt;div id=&quot;html_8fab0651c0d08645191ba81e1d303766&quot; style=&quot;width: 100.0%; height: 100.0%;&quot;&gt;     &lt;div style=&#x27;font-family: Arial;&#x27;&gt;         &lt;h4 style=&#x27;color: #e74c3c;&#x27;&gt;RS Citra Husada&lt;/h4&gt;         &lt;b&gt;⭐ Rating:&lt;/b&gt; 4.1/5.0&lt;br&gt;         &lt;b&gt;📂 Kategori:&lt;/b&gt; kesehatan&lt;br&gt;         &lt;i&gt;✨ Fasilitas rating tinggi&lt;/i&gt;     &lt;/div&gt;     &lt;/div&gt;`)[0];\n",
       "                popup_2b6725e17326f6d145152e43df81c876.setContent(html_8fab0651c0d08645191ba81e1d303766);\n",
       "            \n",
       "        \n",
       "\n",
       "        circle_marker_5c987f7efa63146c04b471fc22113ef5.bindPopup(popup_2b6725e17326f6d145152e43df81c876)\n",
       "        ;\n",
       "\n",
       "        \n",
       "    \n",
       "    \n",
       "            var circle_marker_77fdfd029a0022c7cab4692f49ab4ea6 = L.circleMarker(\n",
       "                [-8.0789, 113.5445],\n",
       "                {&quot;bubblingMouseEvents&quot;: true, &quot;color&quot;: &quot;#f39c12&quot;, &quot;dashArray&quot;: null, &quot;dashOffset&quot;: null, &quot;fill&quot;: true, &quot;fillColor&quot;: &quot;#f39c12&quot;, &quot;fillOpacity&quot;: 0.8, &quot;fillRule&quot;: &quot;evenodd&quot;, &quot;lineCap&quot;: &quot;round&quot;, &quot;lineJoin&quot;: &quot;round&quot;, &quot;opacity&quot;: 1.0, &quot;radius&quot;: 10, &quot;stroke&quot;: true, &quot;weight&quot;: 3}\n",
       "            ).addTo(map_12b16471c542d586a2f5b27bf8f0e3cc);\n",
       "        \n",
       "    \n",
       "        var popup_32fc192226e1722c70078d7651a4db6d = L.popup({\n",
       "  &quot;maxWidth&quot;: &quot;100%&quot;,\n",
       "});\n",
       "\n",
       "        \n",
       "            \n",
       "                var html_74d12d8b8c2fcb43841490a156b26b4c = $(`&lt;div id=&quot;html_74d12d8b8c2fcb43841490a156b26b4c&quot; style=&quot;width: 100.0%; height: 100.0%;&quot;&gt;     &lt;div style=&#x27;font-family: Arial;&#x27;&gt;         &lt;h4 style=&#x27;color: #f39c12;&#x27;&gt;Perkebunan Kopi&lt;/h4&gt;         &lt;b&gt;⭐ Rating:&lt;/b&gt; 4.2/5.0&lt;br&gt;         &lt;b&gt;📂 Kategori:&lt;/b&gt; ekonomi&lt;br&gt;         &lt;i&gt;✨ Fasilitas rating tinggi&lt;/i&gt;     &lt;/div&gt;     &lt;/div&gt;`)[0];\n",
       "                popup_32fc192226e1722c70078d7651a4db6d.setContent(html_74d12d8b8c2fcb43841490a156b26b4c);\n",
       "            \n",
       "        \n",
       "\n",
       "        circle_marker_77fdfd029a0022c7cab4692f49ab4ea6.bindPopup(popup_32fc192226e1722c70078d7651a4db6d)\n",
       "        ;\n",
       "\n",
       "        \n",
       "    \n",
       "    \n",
       "            var circle_marker_1187c2854997288b1ebb2aadf0c5a97a = L.circleMarker(\n",
       "                [-8.1822, 113.6634],\n",
       "                {&quot;bubblingMouseEvents&quot;: true, &quot;color&quot;: &quot;#2ecc71&quot;, &quot;dashArray&quot;: null, &quot;dashOffset&quot;: null, &quot;fill&quot;: true, &quot;fillColor&quot;: &quot;#2ecc71&quot;, &quot;fillOpacity&quot;: 0.8, &quot;fillRule&quot;: &quot;evenodd&quot;, &quot;lineCap&quot;: &quot;round&quot;, &quot;lineJoin&quot;: &quot;round&quot;, &quot;opacity&quot;: 1.0, &quot;radius&quot;: 10, &quot;stroke&quot;: true, &quot;weight&quot;: 3}\n",
       "            ).addTo(map_12b16471c542d586a2f5b27bf8f0e3cc);\n",
       "        \n",
       "    \n",
       "        var popup_868118afc14e2d46eff4a9ee29729073 = L.popup({\n",
       "  &quot;maxWidth&quot;: &quot;100%&quot;,\n",
       "});\n",
       "\n",
       "        \n",
       "            \n",
       "                var html_0f79999809a4bd6e95cf8b2565d80810 = $(`&lt;div id=&quot;html_0f79999809a4bd6e95cf8b2565d80810&quot; style=&quot;width: 100.0%; height: 100.0%;&quot;&gt;     &lt;div style=&#x27;font-family: Arial;&#x27;&gt;         &lt;h4 style=&#x27;color: #2ecc71;&#x27;&gt;Taman Botani&lt;/h4&gt;         &lt;b&gt;⭐ Rating:&lt;/b&gt; 4.0/5.0&lt;br&gt;         &lt;b&gt;📂 Kategori:&lt;/b&gt; wisata&lt;br&gt;         &lt;i&gt;✨ Fasilitas rating tinggi&lt;/i&gt;     &lt;/div&gt;     &lt;/div&gt;`)[0];\n",
       "                popup_868118afc14e2d46eff4a9ee29729073.setContent(html_0f79999809a4bd6e95cf8b2565d80810);\n",
       "            \n",
       "        \n",
       "\n",
       "        circle_marker_1187c2854997288b1ebb2aadf0c5a97a.bindPopup(popup_868118afc14e2d46eff4a9ee29729073)\n",
       "        ;\n",
       "\n",
       "        \n",
       "    \n",
       "    \n",
       "            var circle_marker_b209cfca2586027e7a071c8730c9383c = L.circleMarker(\n",
       "                [-8.1545, 113.7089],\n",
       "                {&quot;bubblingMouseEvents&quot;: true, &quot;color&quot;: &quot;#9b59b6&quot;, &quot;dashArray&quot;: null, &quot;dashOffset&quot;: null, &quot;fill&quot;: true, &quot;fillColor&quot;: &quot;#9b59b6&quot;, &quot;fillOpacity&quot;: 0.8, &quot;fillRule&quot;: &quot;evenodd&quot;, &quot;lineCap&quot;: &quot;round&quot;, &quot;lineJoin&quot;: &quot;round&quot;, &quot;opacity&quot;: 1.0, &quot;radius&quot;: 10, &quot;stroke&quot;: true, &quot;weight&quot;: 3}\n",
       "            ).addTo(map_12b16471c542d586a2f5b27bf8f0e3cc);\n",
       "        \n",
       "    \n",
       "        var popup_94da9154971139b2d480298a03541821 = L.popup({\n",
       "  &quot;maxWidth&quot;: &quot;100%&quot;,\n",
       "});\n",
       "\n",
       "        \n",
       "            \n",
       "                var html_a158d4ba496c87cf34d0b47fb4b0834c = $(`&lt;div id=&quot;html_a158d4ba496c87cf34d0b47fb4b0834c&quot; style=&quot;width: 100.0%; height: 100.0%;&quot;&gt;     &lt;div style=&#x27;font-family: Arial;&#x27;&gt;         &lt;h4 style=&#x27;color: #9b59b6;&#x27;&gt;Stadion Jember&lt;/h4&gt;         &lt;b&gt;⭐ Rating:&lt;/b&gt; 4.2/5.0&lt;br&gt;         &lt;b&gt;📂 Kategori:&lt;/b&gt; ruang_publik&lt;br&gt;         &lt;i&gt;✨ Fasilitas rating tinggi&lt;/i&gt;     &lt;/div&gt;     &lt;/div&gt;`)[0];\n",
       "                popup_94da9154971139b2d480298a03541821.setContent(html_a158d4ba496c87cf34d0b47fb4b0834c);\n",
       "            \n",
       "        \n",
       "\n",
       "        circle_marker_b209cfca2586027e7a071c8730c9383c.bindPopup(popup_94da9154971139b2d480298a03541821)\n",
       "        ;\n",
       "\n",
       "        \n",
       "    \n",
       "    \n",
       "            var circle_marker_b7ea316a9575e2ed68a3302f5b5dca91 = L.circleMarker(\n",
       "                [-8.1593, 113.7213],\n",
       "                {&quot;bubblingMouseEvents&quot;: true, &quot;color&quot;: &quot;#3498db&quot;, &quot;dashArray&quot;: null, &quot;dashOffset&quot;: null, &quot;fill&quot;: true, &quot;fillColor&quot;: &quot;#3498db&quot;, &quot;fillOpacity&quot;: 0.8, &quot;fillRule&quot;: &quot;evenodd&quot;, &quot;lineCap&quot;: &quot;round&quot;, &quot;lineJoin&quot;: &quot;round&quot;, &quot;opacity&quot;: 1.0, &quot;radius&quot;: 10, &quot;stroke&quot;: true, &quot;weight&quot;: 3}\n",
       "            ).addTo(map_12b16471c542d586a2f5b27bf8f0e3cc);\n",
       "        \n",
       "    \n",
       "        var popup_5f05095be6e59c1b193adb8801fb1d1e = L.popup({\n",
       "  &quot;maxWidth&quot;: &quot;100%&quot;,\n",
       "});\n",
       "\n",
       "        \n",
       "            \n",
       "                var html_6e101d3ed516cd3109bef47395bf9d52 = $(`&lt;div id=&quot;html_6e101d3ed516cd3109bef47395bf9d52&quot; style=&quot;width: 100.0%; height: 100.0%;&quot;&gt;     &lt;div style=&#x27;font-family: Arial;&#x27;&gt;         &lt;h4 style=&#x27;color: #3498db;&#x27;&gt;SMKN 1 Jember&lt;/h4&gt;         &lt;b&gt;⭐ Rating:&lt;/b&gt; 4.4/5.0&lt;br&gt;         &lt;b&gt;📂 Kategori:&lt;/b&gt; pendidikan&lt;br&gt;         &lt;i&gt;✨ Fasilitas rating tinggi&lt;/i&gt;     &lt;/div&gt;     &lt;/div&gt;`)[0];\n",
       "                popup_5f05095be6e59c1b193adb8801fb1d1e.setContent(html_6e101d3ed516cd3109bef47395bf9d52);\n",
       "            \n",
       "        \n",
       "\n",
       "        circle_marker_b7ea316a9575e2ed68a3302f5b5dca91.bindPopup(popup_5f05095be6e59c1b193adb8801fb1d1e)\n",
       "        ;\n",
       "\n",
       "        \n",
       "    \n",
       "    \n",
       "            var circle_marker_020f16fd72fbb1bd014da4afa349ce1b = L.circleMarker(\n",
       "                [-8.1234, 113.6789],\n",
       "                {&quot;bubblingMouseEvents&quot;: true, &quot;color&quot;: &quot;#2ecc71&quot;, &quot;dashArray&quot;: null, &quot;dashOffset&quot;: null, &quot;fill&quot;: true, &quot;fillColor&quot;: &quot;#2ecc71&quot;, &quot;fillOpacity&quot;: 0.8, &quot;fillRule&quot;: &quot;evenodd&quot;, &quot;lineCap&quot;: &quot;round&quot;, &quot;lineJoin&quot;: &quot;round&quot;, &quot;opacity&quot;: 1.0, &quot;radius&quot;: 10, &quot;stroke&quot;: true, &quot;weight&quot;: 3}\n",
       "            ).addTo(map_12b16471c542d586a2f5b27bf8f0e3cc);\n",
       "        \n",
       "    \n",
       "        var popup_1993defd86c07022f7719d05601bac36 = L.popup({\n",
       "  &quot;maxWidth&quot;: &quot;100%&quot;,\n",
       "});\n",
       "\n",
       "        \n",
       "            \n",
       "                var html_69a2159c73ef1d5ba8276e9a7f78bd34 = $(`&lt;div id=&quot;html_69a2159c73ef1d5ba8276e9a7f78bd34&quot; style=&quot;width: 100.0%; height: 100.0%;&quot;&gt;     &lt;div style=&#x27;font-family: Arial;&#x27;&gt;         &lt;h4 style=&#x27;color: #2ecc71;&#x27;&gt;Waduk Sempor&lt;/h4&gt;         &lt;b&gt;⭐ Rating:&lt;/b&gt; 4.1/5.0&lt;br&gt;         &lt;b&gt;📂 Kategori:&lt;/b&gt; wisata&lt;br&gt;         &lt;i&gt;✨ Fasilitas rating tinggi&lt;/i&gt;     &lt;/div&gt;     &lt;/div&gt;`)[0];\n",
       "                popup_1993defd86c07022f7719d05601bac36.setContent(html_69a2159c73ef1d5ba8276e9a7f78bd34);\n",
       "            \n",
       "        \n",
       "\n",
       "        circle_marker_020f16fd72fbb1bd014da4afa349ce1b.bindPopup(popup_1993defd86c07022f7719d05601bac36)\n",
       "        ;\n",
       "\n",
       "        \n",
       "    \n",
       "&lt;/script&gt;\n",
       "&lt;/html&gt;\" style=\"position:absolute;width:100%;height:100%;left:0;top:0;border:none !important;\" allowfullscreen webkitallowfullscreen mozallowfullscreen></iframe></div></div>"
      ],
      "text/plain": [
       "<folium.folium.Map at 0x757bc4beb920>"
      ]
     },
     "execution_count": 7,
     "metadata": {},
     "output_type": "execute_result"
    }
   ],
   "source": [
    "# Latihan 1: Hanya fasilitas dengan rating ≥ 4.0\n",
    "df_high_rating = df[df['rating'] >= 4.0]\n",
    "\n",
    "m_filtered = folium.Map(location=[center_lat, center_lon], zoom_start=10, tiles='CartoDB positron')\n",
    "\n",
    "for idx, row in df_high_rating.iterrows():\n",
    "    color = palette.get(row['kategori'], '#95a5a6')\n",
    "    \n",
    "    popup_html = f\"\"\"\n",
    "    <div style='font-family: Arial;'>\n",
    "        <h4 style='color: {color};'>{row['nama']}</h4>\n",
    "        <b>⭐ Rating:</b> {row['rating']}/5.0<br>\n",
    "        <b>📂 Kategori:</b> {row['kategori']}<br>\n",
    "        <i>✨ Fasilitas rating tinggi</i>\n",
    "    </div>\n",
    "    \"\"\"\n",
    "    \n",
    "    folium.CircleMarker(\n",
    "        location=[row['lat'], row['lon']],\n",
    "        radius=10,\n",
    "        color=color,\n",
    "        fill=True,\n",
    "        fill_color=color,\n",
    "        fill_opacity=0.8,\n",
    "        popup=popup_html\n",
    "    ).add_to(m_filtered)\n",
    "\n",
    "print(f'✅ Menampilkan {len(df_high_rating)} fasilitas dengan rating ≥ 4.0')\n",
    "m_filtered"
   ]
  },
  {
   "cell_type": "markdown",
   "id": "f953768e",
   "metadata": {},
   "source": [
    "### Jawaban Latihan 2: Filter Kategori Wisata & Pendidikan"
   ]
  },
  {
   "cell_type": "code",
   "execution_count": 9,
   "id": "7487a674",
   "metadata": {},
   "outputs": [
    {
     "ename": "IndentationError",
     "evalue": "unindent does not match any outer indentation level (<string>, line 23)",
     "output_type": "error",
     "traceback": [
      "  \u001b[36mFile \u001b[39m\u001b[32m<string>:23\u001b[39m\n\u001b[31m    \u001b[39m\u001b[31m},\u001b[39m\n      ^\n\u001b[31mIndentationError\u001b[39m\u001b[31m:\u001b[39m unindent does not match any outer indentation level\n"
     ]
    }
   ],
   "source": [
    "# Latihan 2: Hanya kategori wisata dan pendidikan\n",
    "df_subset = df[df['kategori'].isin(['wisata', 'pendidikan'])]\n",
    "\n",
    "fig_subset = px.scatter_mapbox(\n",
    "    df_subset,\n",
    "    lat='lat',\n",
    "    lon='lon',\n",
    "    color='kategori',\n",
    "    size='rating',\n",
    "    hover_name='nama',\n",
    "    hover_data={'lat': False, 'lon': False, 'kecamatan': True, 'rating': ':.1f'},\n",
    "    zoom=9,\n",
    "    mapbox_style='carto-positron',\n",
    "    title=f'📍 Fasilitas Wisata & Pendidikan di Jember ({len(df_subset)} lokasi)'\n",
    ")\n",
    "\n",
    "fig_subset.update_layout(height=600)\n",
    "print(f'✅ Menampilkan {len(df_subset)} fasilitas (wisata & pendidikan)')\n",
    "fig_subset.show()\n",
    "        'jenis': False,    # sembunyikan\n",
    "        'kota': True,      # tampilkan\n",
    "        'skor': True       # tampilkan\n",
    "    },\n",
    "    zoom=6.5,\n",
    "    mapbox_style='carto-positron',\n",
    "    title='Peta UMKM - Tooltip Kustom'\n",
    ")\n",
    "\n",
    "fig_custom.update_layout(height=600)\n",
    "print('✅ Peta dengan tooltip kustom berhasil!')\n",
    "fig_custom.show()"
   ]
  },
  {
   "cell_type": "markdown",
   "id": "30c73490",
   "metadata": {},
   "source": [
    "---\n",
    "\n",
    "## 🎉 Selamat!\n",
    "\n",
    "Anda telah menyelesaikan Notebook 02 dan mempelajari:\n",
    "- ✅ Membuat peta interaktif dengan **Folium** (marker + popup)\n",
    "- ✅ Membuat scatter map dengan **Plotly**\n",
    "- ✅ Memahami **perbedaan** berbagai alat visualisasi\n",
    "- ✅ Memilih **alat yang tepat** untuk kebutuhan\n",
    "- ✅ Menyimpan peta ke **HTML**\n",
    "\n",
    "---\n",
    "\n",
    "## 🚀 Lanjut ke Notebook 03\n",
    "\n",
    "Di notebook terakhir, Anda akan:\n",
    "- Mengerjakan **tugas praktikum** lengkap\n",
    "- Membuat peta dengan **marker cluster**\n",
    "- Agregasi data per kecamatan\n",
    "- Mendapat **rubrik penilaian**\n",
    "\n",
    "**Buka:** `03_latihan_tugas.ipynb`\n",
    "\n",
    "---\n",
    "\n",
    "> **💡 TIPS LANJUTAN:**\n",
    "> - Eksplorasi plugin Folium: HeatMap, MarkerCluster, Choropleth\n",
    "> - Pelajari Dash (framework Plotly) untuk dashboard real-time\n",
    "> - Gabungkan GeoPandas + Folium untuk analisis + visualisasi"
   ]
  },
  {
   "cell_type": "markdown",
   "id": "7efd7407",
   "metadata": {},
   "source": [
    "# 02 - Alat untuk Visualisasi Geospasial\n",
    "\n",
    "Notebook ini memperlihatkan demo singkat Folium (marker + popup) dan Plotly (scatter_mapbox). Kita akan memuat data UMKM dari `../data/raw/umkm_sample.csv` dan menampilkan peta interaktif dasar."
   ]
  },
  {
   "cell_type": "code",
   "execution_count": null,
   "id": "4f404a2c",
   "metadata": {},
   "outputs": [],
   "source": [
    "# Imports dan path\n",
    "import pandas as pd\n",
    "from pathlib import Path\n",
    "\n",
    "ROOT = Path('..') if Path('.').name == 'notebooks' else Path('.')\n",
    "CSV_UMKM = ROOT / 'data' / 'raw' / 'umkm_sample.csv'\n",
    "df = pd.read_csv(CSV_UMKM)\n",
    "print('Loaded', len(df), 'rows')\n",
    "df.head()"
   ]
  },
  {
   "cell_type": "markdown",
   "id": "a317420b",
   "metadata": {},
   "source": [
    "## Demo Folium - Marker dan Popup\n",
    "Folium menggunakan tiles dari penyedia seperti CartoDB/ OpenStreetMap dan bekerja offline for tiles if you have them cached; no API keys are required for common tiles like 'CartoDB positron' or 'OpenStreetMap'."
   ]
  },
  {
   "cell_type": "code",
   "execution_count": null,
   "id": "8d000a3c",
   "metadata": {},
   "outputs": [],
   "source": [
    "import folium\n",
    "# Buat peta berpusat pada rata-rata koordinat\n",
    "center = [df['lat'].mean(), df['lon'].mean()]\n",
    "m = folium.Map(location=center, zoom_start=7, tiles='CartoDB positron')\n",
    "\n",
    "# warna sederhana berdasarkan jenis\n",
    "palette = {'makanan':'red','kue':'purple','jasa':'blue','kerajinan':'green','minuman':'orange','retail':'darkgreen','jasaha':'gray'}\n",
    "\n",
    "for _, r in df.iterrows():\n",
    "    color = palette.get(r.get('jenis',''), 'black')\n",
    "    popup_html = f\"<b>{r.nama}</b><br>{r.kota} - {r.kecamatan}<br>Jenis: {r.jenis}<br>Skor: {r.skor}\"\n",
    "    folium.CircleMarker(location=[r.lat, r.lon], radius=6, color=color, fill=True, fill_color=color, popup=folium.Popup(popup_html, max_width=250)).add_to(m)\n",
    "\n",
    "# Simpan ke exports agar mudah dibuka\n",
    "out = ROOT / 'exports' / 'map_umkm_folium.html'\n",
    "m.save(out)\n",
    "print('Saved Folium map to', out)\n",
    "m  # in Jupyter this will render inline"
   ]
  },
  {
   "cell_type": "markdown",
   "id": "34635702",
   "metadata": {},
   "source": [
    "## Demo Plotly - scatter_mapbox\n",
    "Plotly dapat menggunakan Mapbox styles (e.g., 'carto-positron') or the built-in 'open-street-map' tiles. Using certain Mapbox styles may require a Mapbox access token; if you don't have one, use `mapbox_style='open-street-map'`."
   ]
  },
  {
   "cell_type": "code",
   "execution_count": null,
   "id": "f4d4cb75",
   "metadata": {},
   "outputs": [],
   "source": [
    "import plotly.express as px\n",
    "# Jika tidak punya token, gunakan 'open-street-map' atau catatan tentang token\n",
    "map_style = 'carto-positron'  # try; fallback to 'open-street-map' if you have no token\n",
    "try:\n",
    "    fig = px.scatter_mapbox(df, lat='lat', lon='lon', color='jenis', size='skor', hover_name='nama', zoom=6, mapbox_style=map_style)\n",
    "    fig.update_layout(height=600)\n",
    "    fig.show()\n",
    "except Exception as e:\n",
    "    print('Plotly map using mapbox style failed (no token?). Falling back to open-street-map. Error:', e)\n",
    "    fig = px.scatter_mapbox(df, lat='lat', lon='lon', color='jenis', size='skor', hover_name='nama', zoom=6, mapbox_style='open-street-map')\n",
    "    fig.update_layout(height=600)\n",
    "    fig.show()"
   ]
  },
  {
   "cell_type": "markdown",
   "id": "a357e076",
   "metadata": {},
   "source": [
    "## Perbandingan singkat (GeoPandas / Folium / Plotly / QGIS / Kepler)\n",
    "| Alat | Kelebihan | Kekurangan | Cocok untuk |\n",
    "|-----|----------|-----------|------------|\n",
    "| GeoPandas | Analisis & plotting statik, integrates with pandas | Tidak interaktif | Analisis data & peta statik |\n",
    "| Folium | Peta interaktif, mudah menambahkan marker/popup | Kurang perform untuk banyak marker | Pembuatan peta interaktif cepat |\n",
    "| Plotly | Interaksi, styling, integrasi web | Mapbox token untuk beberapa style | Visualisasi interaktif berbasis web |\n",
    "| QGIS | GUI penuh fitur GIS | Kurva belajar, aplikasi berat | Analisis spasial mendalam |\n",
    "| Kepler | Visualisasi besar & 3D | Memerlukan data terstruktur | Visualisasi skala besar |"
   ]
  },
  {
   "cell_type": "markdown",
   "id": "dca66cd1",
   "metadata": {},
   "source": [
    "## Latihan (2 soal)\n",
    "1) Ubah warna marker Folium sehingga `jenis=='makanan'` tampilkan warna merah, `kue` ungu, lainnya biru. Simpan peta baru.\n",
    "2) Di Plotly, ubah tooltip sehingga menampilkan `nama` dan `skor` saja, lalu ekspor figure ke HTML menggunakan `fig.write_html()`."
   ]
  },
  {
   "cell_type": "code",
   "execution_count": null,
   "id": "5e279f93",
   "metadata": {},
   "outputs": [],
   "source": [
    "# Jawaban singkat latihan\n",
    "# 1) contoh perubahan warna sudah disiapkan di cell folium (ubah 'palette' jika ingin)\n",
    "print('Untuk latihan Folium: sesuaikan palette dict lalu simpan ulang peta.')\n",
    "# 2) contoh ekspor Plotly ke HTML\n",
    "try:\n",
    "    fig.write_html(ROOT / 'exports' / 'map_umkm_plotly.html')\n",
    "    print('Saved Plotly map to exports/map_umkm_plotly.html')\n",
    "except Exception as e:\n",
    "    print('Could not save figure:', e)"
   ]
  }
 ],
 "metadata": {
  "kernelspec": {
   "display_name": ".venv",
   "language": "python",
   "name": "python3"
  },
  "language_info": {
   "codemirror_mode": {
    "name": "ipython",
    "version": 3
   },
   "file_extension": ".py",
   "mimetype": "text/x-python",
   "name": "python",
   "nbconvert_exporter": "python",
   "pygments_lexer": "ipython3",
   "version": "3.12.3"
  }
 },
 "nbformat": 4,
 "nbformat_minor": 5
}
